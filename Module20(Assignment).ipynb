{
  "nbformat": 4,
  "nbformat_minor": 0,
  "metadata": {
    "colab": {
      "provenance": []
    },
    "kernelspec": {
      "name": "python3",
      "display_name": "Python 3"
    },
    "language_info": {
      "name": "python"
    }
  },
  "cells": [
    {
      "cell_type": "markdown",
      "source": [
        "Problem 1\n",
        "\n",
        "Create a Map in JavaScript and perform the following operations:\n",
        " -  Add key-value pairs to the Map.\n",
        " -  Check if a specific key exists.\n",
        " -  Retrieve the value associated with a given key.\n",
        " -  Iterate through all key-value pairs.\n"
      ],
      "metadata": {
        "id": "qZUzrAjEEyhB"
      }
    },
    {
      "cell_type": "code",
      "execution_count": null,
      "metadata": {
        "id": "Ad86ETq1Eubf"
      },
      "outputs": [],
      "source": [
        "// creating map\n",
        "const map = new Map();\n",
        "\n",
        "//Add key values pair in map\n",
        "map.set(\"a\",1);\n",
        "map.set(\"b\",2);\n",
        "map.set(\"c\",3);\n",
        "// console.log(map);\n",
        "\n",
        "// check if specific key exits\n",
        "console.log(map.has(\"a\"));\n",
        "\n",
        "//retrieve the value associated with given key\n",
        "\n",
        "console.log(map.get(\"b\"));\n",
        "\n",
        "//iterate through key value pair\n",
        "\n",
        "map.forEach((key,value) => console.log(key,value));\n"
      ]
    },
    {
      "cell_type": "markdown",
      "source": [
        "Problem 2\n",
        "\n",
        "Create a Map to store contact information (name, age, email, location) and implement a function to retrieve\n",
        "contact details by name."
      ],
      "metadata": {
        "id": "jJPcycUGFGmj"
      }
    },
    {
      "cell_type": "code",
      "source": [
        "const contactInformation = new Map([\n",
        "    [\"user1\",{\"name\":\"Rampal\",\n",
        "    \"age\":23,\n",
        "    \"email\":\"Rampal1234@gamil.com\",\n",
        "    \"location\":\"New Delhi\"}],\n",
        "    [\"user2\",{\"name\":\"Mukund\",\n",
        "    \"age\":24,\n",
        "    \"email\":\"Mukund1234@gamil.com\",\n",
        "    \"location\":\"Greter Noida\"}],\n",
        "    [\"user3\",{\"name\":\"Nishant\",\n",
        "    \"age\":24,\n",
        "    \"email\":\"Nishant1234@gamil.com\",\n",
        "    \"location\":\"Noida\"}]\n",
        "]);\n",
        "\n",
        "function contactDetails(name) {\n",
        "    contactInformation.forEach((key,value)=> {if(key.name === name){\n",
        "        console.log(key,value);\n",
        "    }})\n",
        "}\n",
        "\n",
        "contactDetails(\"Nishant\");"
      ],
      "metadata": {
        "id": "DmpeDbOxFKdm"
      },
      "execution_count": null,
      "outputs": []
    },
    {
      "cell_type": "markdown",
      "source": [
        "Problem 3\n",
        "\n",
        "You are given an array of numbers named myArray. Create a function that takes any number of arguments\n",
        "and adds them to the existing array. Use the spread and rest operator."
      ],
      "metadata": {
        "id": "kHyXLnZVFO5J"
      }
    },
    {
      "cell_type": "code",
      "source": [
        "let myArray = [2,4,6,7,8];\n",
        "\n",
        "function add(...num) {\n",
        "    myArray = [...myArray,...num];\n",
        "    console.log(myArray);\n",
        "}\n",
        "\n",
        "add(3,4,44,566,5,6,6,7,7);"
      ],
      "metadata": {
        "id": "ynCNNmfIFR93"
      },
      "execution_count": null,
      "outputs": []
    },
    {
      "cell_type": "markdown",
      "source": [
        "Problem 4\n",
        "\n",
        "Create an object car with properties brand, model, and a method displayDetails that prints \"Brand: [brand],\n",
        "Model: [model]\". Test the method using this keyword"
      ],
      "metadata": {
        "id": "ZketG2FgFU6Z"
      }
    },
    {
      "cell_type": "code",
      "source": [
        "const car = {\"brand\":\"Mahindra\",\n",
        "    \"Model\":\"Thar\",\n",
        "    dispalyDetail:function() {\n",
        "        console.log(`brand of car ${this.brand} and Model of car ${this.Model}`);\n",
        "    }\n",
        "};\n",
        "\n",
        "car.dispalyDetail();"
      ],
      "metadata": {
        "id": "Ai0HchugFYMv"
      },
      "execution_count": null,
      "outputs": []
    },
    {
      "cell_type": "markdown",
      "source": [
        "Problem 5\n",
        "\n",
        "Create two objects person1 and person2 with properties name and age. Create a function “introduce” that\n",
        "prints \"Hello, I'm [name], and I'm [age] years old.\" Use the call method to make person2 introduce itself\n",
        "using the introduce function."
      ],
      "metadata": {
        "id": "BsacfmHEFbA9"
      }
    },
    {
      "cell_type": "code",
      "source": [
        "const person1 = {name:\"Mukund\",age:23};\n",
        "\n",
        "const person2 = {name:\"Nishant\",age:24};\n",
        "\n",
        "function introduce() {\n",
        "    console.log(`Hello, I' am ${this.name}, and I' am ${this.age} years old`);\n",
        "}\n",
        "\n",
        "introduce.call(person1);\n",
        "\n",
        "introduce.call(person2);"
      ],
      "metadata": {
        "id": "dHjz1O6uFd-i"
      },
      "execution_count": null,
      "outputs": []
    }
  ]
}