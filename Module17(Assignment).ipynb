{
  "nbformat": 4,
  "nbformat_minor": 0,
  "metadata": {
    "colab": {
      "provenance": []
    },
    "kernelspec": {
      "name": "python3",
      "display_name": "Python 3"
    },
    "language_info": {
      "name": "python"
    }
  },
  "cells": [
    {
      "cell_type": "markdown",
      "source": [
        "Q1. Create an arrow function called square that takes a number as an argument and returns its square. Use\n",
        "the arrow function to calculate the square of a given number and display the result."
      ],
      "metadata": {
        "id": "mJkmxU6vDpRr"
      }
    },
    {
      "cell_type": "code",
      "execution_count": null,
      "metadata": {
        "id": "-zeHe8-ZDQ1T"
      },
      "outputs": [],
      "source": [
        "const squre = x => console.log(x*x);\n",
        "squre(4);"
      ]
    },
    {
      "cell_type": "markdown",
      "source": [
        "Q2. Create a JavaScript function called generateGreeting that takes a name as an argument and returns a\n",
        "personalized greeting message. Use this function to greet three different people."
      ],
      "metadata": {
        "id": "ryWnRwgzTFhC"
      }
    },
    {
      "cell_type": "code",
      "source": [
        "function generateGreeting(name) {\n",
        "    console.log(\"Hello \"+name+\" thanku for visting my website.\");\n",
        "}\n",
        "generateGreeting(\"Ramesh\");\n",
        "generateGreeting(\"Suresh\");\n",
        "generateGreeting(\"Ramlal\");"
      ],
      "metadata": {
        "id": "Sa4BbG7DTJTn"
      },
      "execution_count": null,
      "outputs": []
    },
    {
      "cell_type": "markdown",
      "source": [
        "Q3. Create an IIFE (Immediately Invoked Function Expression) that calculates the square of a number and\n",
        "immediately displays the result."
      ],
      "metadata": {
        "id": "jDYUM0w_TNFw"
      }
    },
    {
      "cell_type": "code",
      "source": [
        "(function (){\n",
        "    let num=3;\n",
        "    console.log(num**2);\n",
        "}) ();"
      ],
      "metadata": {
        "id": "t-IJYOf5TRq0"
      },
      "execution_count": null,
      "outputs": []
    },
    {
      "cell_type": "markdown",
      "source": [
        "Q4. Write a JavaScript function called calculateTax that takes an income as an argument and returns the\n",
        "amount of tax to be paid. Use a closure to handle different tax rates based on income ranges. Test the\n",
        "function with various incomes."
      ],
      "metadata": {
        "id": "jdpvesu0TdP3"
      }
    },
    {
      "cell_type": "code",
      "source": [
        "function calculateTax(name , income) {\n",
        "    let tax = 0;\n",
        "    if((0 < income) && (income <= 300000)){\n",
        "        console.log(name +\" you have to pay no tax\");\n",
        "    }\n",
        "    else if((300000 < income) && (income <= 600000)){\n",
        "        tax = ((5/100)*income);\n",
        "        console.log(name +\" you have to pay \"+tax);\n",
        "    }\n",
        "    else if((600000 < income) && (income <= 900000)) {\n",
        "        tax = ((10/100)*income);\n",
        "        console.log(name +\" you have to pay \"+tax);\n",
        "    }\n",
        "    else if((900000 < income) && (income <= 1500000)) {\n",
        "        tax = ((20/100)*income);\n",
        "        console.log(name +\" you have to pay \"+tax);\n",
        "    }\n",
        "    else {\n",
        "        tax = ((30/100)*income);\n",
        "        console.log(name +\" you have to pay \"+tax);\n",
        "    }\n",
        "}\n",
        "calculateTax(\"Suresh\",500000);\n",
        "calculateTax(\"Ramesh\",900000);\n",
        "calculateTax(\"Ramlal\",1000000);\n"
      ],
      "metadata": {
        "id": "LoLaLhmsTe1O"
      },
      "execution_count": null,
      "outputs": []
    },
    {
      "cell_type": "markdown",
      "source": [
        "Q5. Write a JavaScript function called factorial that calculates the factorial of a non-negative integer using\n",
        "recursion. Test the function with different inputs."
      ],
      "metadata": {
        "id": "Bywx6N3cTiIc"
      }
    },
    {
      "cell_type": "code",
      "source": [
        "function factorial(x) {\n",
        "    if(x==1) {\n",
        "        return 1;\n",
        "    }\n",
        "    return x*factorial(x-1);\n",
        "}\n",
        "console.log(factorial(5));\n",
        "console.log(factorial(6));\n",
        "console.log(factorial(7));\n",
        "console.log(factorial(8));\n",
        "console.log(factorial(9));"
      ],
      "metadata": {
        "id": "5CSV4hSOTlDK"
      },
      "execution_count": null,
      "outputs": []
    },
    {
      "cell_type": "markdown",
      "source": [
        "Q6. Write a JavaScript function called curry that takes a function as an argument and returns a curried\n",
        "version of that function. The curried function should accept arguments one at a time and return a new\n",
        "function until all arguments are provided. Then, it should execute the original function with all arguments.\n",
        "Test the curry function with a function that adds two numbers."
      ],
      "metadata": {
        "id": "sN82CheYTpru"
      }
    },
    {
      "cell_type": "code",
      "source": [
        "//return curried function\n",
        "function curry(func) {\n",
        "    return func = a => b => a+b;\n",
        "}\n",
        "//normal function\n",
        "function sum(a,b) {\n",
        "    return a+b;\n",
        "}\n",
        "const s = curry(sum);\n",
        "console.log(s(4)(7));"
      ],
      "metadata": {
        "id": "tvknnf1Afzoa"
      },
      "execution_count": null,
      "outputs": []
    }
  ]
}