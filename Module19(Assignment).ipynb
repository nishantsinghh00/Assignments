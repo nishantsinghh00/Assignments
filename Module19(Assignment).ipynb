{
  "nbformat": 4,
  "nbformat_minor": 0,
  "metadata": {
    "colab": {
      "provenance": []
    },
    "kernelspec": {
      "name": "python3",
      "display_name": "Python 3"
    },
    "language_info": {
      "name": "python"
    }
  },
  "cells": [
    {
      "cell_type": "markdown",
      "source": [
        "TASK 1\n",
        "\n",
        "Problem Statement 1: Create a Constructor for a Person\n",
        "\n",
        "Write a JavaScript function constructor named Person that takes two parameters, name, and age, and Add a\n",
        "method to the prototype to display name and age. Then, create two instances of Person and display their\n",
        "names and ages."
      ],
      "metadata": {
        "id": "yJjLO4F1PBtE"
      }
    },
    {
      "cell_type": "code",
      "execution_count": null,
      "metadata": {
        "id": "VyJ9fjjzO8qU"
      },
      "outputs": [],
      "source": [
        "function Person(name,age) {\n",
        "    this.name = name;\n",
        "    this.age =age;\n",
        "    this.display = function(){\n",
        "        console.log(`Name ${this.name} Age: ${this.age}`);\n",
        "    }\n",
        "\n",
        "}\n",
        "\n",
        "const person1 = new Person(\"Nishant\",23);\n",
        "person1.display();\n",
        "\n",
        "\n",
        "const person2 = new Person(\"Garuav\",21);\n",
        "person2.display();"
      ]
    },
    {
      "cell_type": "markdown",
      "source": [
        "TASK 2\n",
        "\n",
        "Problem Statement 2: Implement a Bank Account\n",
        "\n",
        "Create a constructor function named BankAccount that initializes a bank account with an initial balance.\n",
        "Include methods for depositing and withdrawing money from the account. Write code to demonstrate these\n",
        "operations on a bank account object.\n"
      ],
      "metadata": {
        "id": "OE3hRJjpPPPD"
      }
    },
    {
      "cell_type": "code",
      "source": [
        "function bankAccount(accountNo) {\n",
        "    this.accountNo = accountNo;\n",
        "    this.balance = 0;\n",
        "    this.depositing = (amount) => this.balance + amount;\n",
        "    this.withdrawing = (amount) => this.balance - amount;\n",
        "    this.displayBalance = () => {console.log(`Account No. ${this.accountNo} Balance $${this.balance}`);};\n",
        "}\n",
        "\n",
        "const customer = new bankAccount(34564664);\n",
        "customer.displayBalance();\n",
        "customer.depositing(5000);\n",
        "customer.displayBalance();\n",
        "customer.withdrawing(1500);\n",
        "customer.displayBalance();"
      ],
      "metadata": {
        "id": "dgXteCgYPQtS"
      },
      "execution_count": null,
      "outputs": []
    },
    {
      "cell_type": "markdown",
      "source": [
        "TASK 3\n",
        "\n",
        "Problem Statement 3: Create a Constructor for a Book\n",
        "\n",
        "Design a constructor function called Book that takes title and author as parameters. Add a method to the\n",
        "prototype of the Book that displays the book's information. Create at least two book instances and display their\n",
        "\n",
        "information."
      ],
      "metadata": {
        "id": "0fckp9p0PTy-"
      }
    },
    {
      "cell_type": "code",
      "source": [
        "function book(bookTitle,bookAuthor) {\n",
        "    this.bookTitle = bookTitle;\n",
        "    this.bookAuthor = bookAuthor;\n",
        "    this.bookInformation = () => {console.log(`Book name: ${this.bookTitle} Written by: ${this.bookAuthor}`);};\n",
        "}\n",
        "\n",
        "const book1 = new book(\"100 Days\",\"Sam\");\n",
        "book1.bookInformation();\n",
        "\n",
        "const book2 = new book(\"Harry Potter\",\"J.K Rowling\");\n",
        "book2.bookInformation();"
      ],
      "metadata": {
        "id": "QvuIX8ZCPYuW"
      },
      "execution_count": null,
      "outputs": []
    },
    {
      "cell_type": "markdown",
      "source": [
        "TASK 4\n",
        "\n",
        "Problem Statement 4: Implement Task 1 using Class.\n",
        "\n",
        "Design a JavaScript class called Person with properties for name and age. Implement a method to display the\n",
        "person's name and age. Then, create instances of Person and display their information.\n"
      ],
      "metadata": {
        "id": "VnkIT067PZlE"
      }
    },
    {
      "cell_type": "code",
      "source": [
        "// person class\n",
        "class Person {\n",
        "    constructor(name,age) {\n",
        "        this.name = name;\n",
        "        this.age = age;\n",
        "    }\n",
        "    display() {\n",
        "        console.log(`Name: ${this.name} age: ${this.age}`);\n",
        "    }\n",
        "}\n",
        "\n",
        "const personOne = new Person(\"Nishant\",23);\n",
        "personOne.display();\n",
        "\n",
        "const personTwo = new Person(\"Rampal\",21);\n",
        "personTwo.display();"
      ],
      "metadata": {
        "id": "shqNm81fPc4e"
      },
      "execution_count": null,
      "outputs": []
    },
    {
      "cell_type": "markdown",
      "source": [
        "TASK 5\n",
        "\n",
        "Problem Statement 5: Implement a Calculator Class\n",
        "\n",
        "Create a class called Calculator that initializes two values value1 and value2 to store numbers. Add methods for\n",
        "add, subtract, multiply, and divide. Perform and show operations"
      ],
      "metadata": {
        "id": "S9ZGzILcPgQ3"
      }
    },
    {
      "cell_type": "code",
      "source": [
        "class Calculator {\n",
        "    constructor(value1,value2) {\n",
        "        this.value1 = value1;\n",
        "        this.value2 = value2;\n",
        "    }\n",
        "    add() {\n",
        "        let result = this.value1 + this.value2;\n",
        "        console.log(`Addition of given numbers is: ${result}`);\n",
        "    }\n",
        "    subtraction() {\n",
        "        let result = this.value1 - this.value2;\n",
        "        console.log(`Subtraction of given numbers is: ${result}`);\n",
        "    }\n",
        "    multiply() {\n",
        "        let result = this.value1 * this.value2;\n",
        "        console.log(`Multiplication of given numbers is: ${result}`);\n",
        "    }\n",
        "    divide() {\n",
        "        let result = this.value1 +this.value2;\n",
        "        console.log(`Division of given numbers is: ${result}`);\n",
        "    }\n",
        "}\n",
        "\n",
        "const problem = new Calculator(7,6);\n",
        "problem.add();\n",
        "problem.subtraction();\n",
        "problem.multiply();\n",
        "problem.divide();"
      ],
      "metadata": {
        "id": "v9hnVlWaPkRZ"
      },
      "execution_count": null,
      "outputs": []
    },
    {
      "cell_type": "markdown",
      "source": [
        "TASK 6\n",
        "\n",
        "Problem Statement 6: Design a Class for a Geometric Shape\n",
        "\n",
        "Design a class called Shape that can represent various geometric shapes. Implement subclasses for specific\n",
        "shapes like Circle, Rectangle, and RightTriangle. Each subclass should have properties of that shape (e.g..\n",
        "Width, height for a rectangle) and methods for calculating the area and perimeter of the shape. Create\n",
        "instances of these shapes and calculate their areas and perimeters.\n"
      ],
      "metadata": {
        "id": "U9GN_tAiPm3g"
      }
    },
    {
      "cell_type": "code",
      "source": [
        "// superclass\n",
        "class Shape {\n",
        "    area() {\n",
        "        throw new Error(\"area() method must be implement\");\n",
        "    }\n",
        "    perameter() {\n",
        "        throw new Error(\"perameter() method must be implement\");\n",
        "    }\n",
        "\n",
        "}\n",
        "//subclass\n",
        "class Rectangle extends Shape {\n",
        "    constructor(width,hight){\n",
        "        super();\n",
        "        this.width = width;\n",
        "        this.hight = hight;\n",
        "    }\n",
        "    area() {\n",
        "        let result = this.width * this.hight;\n",
        "        console.log(`Area of given rectangle is: ${result}`);\n",
        "    }\n",
        "    perameter() {\n",
        "        let result = 2*(this.width+this.hight);\n",
        "        console.log(`Perameter of given rectangle is: ${result}`);\n",
        "    }\n",
        "}\n",
        "//subclass\n",
        "class Circle extends Shape {\n",
        "    constructor(radius) {\n",
        "        super();\n",
        "        this.radius = radius;\n",
        "    }\n",
        "    area(){\n",
        "        let result = 3.17*(this.radius**2);\n",
        "        console.log(`Area of given circle is: ${result}`)\n",
        "    }\n",
        "    perameter() {\n",
        "        let result = 2*3.17*this.radius;\n",
        "        console.log(`Perameter of given circle is: ${result}`);\n",
        "    }\n",
        "}\n",
        "//subclass\n",
        "class RightTriangle extends Shape {\n",
        "    constructor(base,height) {\n",
        "        super();\n",
        "        this.base = base;\n",
        "        this.height = height;\n",
        "    }\n",
        "    area(){\n",
        "        let result = 0.5*this.base*this.height;\n",
        "        console.log(`Area of given Traingle is: ${result}`)\n",
        "    }\n",
        "    perameter() {\n",
        "        let result = Math.sqrt((this.base**2)+(this.height**2));\n",
        "        console.log(`Perameter of given circle is: ${result}`);\n",
        "    }\n",
        "}\n",
        "\n",
        "const rectangle = new Rectangle(5,6);\n",
        "rectangle.area();\n",
        "rectangle.perameter();\n",
        "\n",
        "const circle = new Circle(6);\n",
        "circle.area();\n",
        "circle.perameter();\n",
        "\n",
        "const triangle = new RightTriangle(5,7);\n",
        "triangle.area();\n",
        "triangle.perameter();"
      ],
      "metadata": {
        "id": "CeUg_2euPp4D"
      },
      "execution_count": null,
      "outputs": []
    },
    {
      "cell_type": "markdown",
      "source": [
        "TASK 7\n",
        "\n",
        "Problem Statement 7: Implement a Library System\n",
        "\n",
        "Create a class called Library that can manage a collection of books. Each book should be represented as an\n",
        "instance of a Book class (with properties like title, author, and availability). Implement methods in the Library\n",
        "class to add books, check out books, and return books. Keep track of the books available."
      ],
      "metadata": {
        "id": "cFzfwYNxPuoJ"
      }
    },
    {
      "cell_type": "code",
      "source": [
        "class Library {\n",
        "    constructor() {\n",
        "        this.Books = [];\n",
        "    }\n",
        "    addBook(book) {\n",
        "        this.Books.push(book);\n",
        "    }\n",
        "    checkOutBook(bookName,obj) {\n",
        "        for(let i=0;i<this.Books.length;i++){\n",
        "            Object.values(obj).forEach(value =>{if(value === bookName){obj.availibilty = \"NO\"};});\n",
        "        }\n",
        "    }\n",
        "    retrunBook(bookName,obj){\n",
        "        let flag = false;\n",
        "        for(let i=0;i<this.Books.length;i++){\n",
        "            Object.values(obj).forEach(value =>{if(value === bookName){obj.availibilty = \"YES\";flag=true;};});\n",
        "        }\n",
        "        if(!flag){\n",
        "            console.log(\"book is not found\");\n",
        "        }\n",
        "    }\n",
        "    bookList(){\n",
        "        console.log(this.Books);\n",
        "    }\n",
        "}\n",
        "\n",
        "class Books {\n",
        "    constructor(title,author) {\n",
        "        this.bookTitle = title;\n",
        "        this.bookAuthor = author;\n",
        "        this.availibilty = \"Yes\";\n",
        "    }\n",
        "    bookInformation() {\n",
        "        console.log(`Book name: ${this.bookTitle} Written by: ${this.bookAuthor} Book is: ${this.availibilty} availible`);\n",
        "    }\n",
        "}\n",
        "\n",
        "const library = new Library();\n",
        "const book1 = new Books(\"100 days\",\"sam\");\n",
        "const book2 = new Books(\"Harry Potter\",\"J.K. Rowling\");\n",
        "const book3 = new Books(\"1984\",\"George Orwall\")\n",
        "\n",
        "library.addBook(book1);\n",
        "library.addBook(book2);\n",
        "library.addBook(book3);\n",
        "\n",
        "library.checkOutBook(\"Harry Potter\",book2);\n",
        "book2.bookInformation();\n",
        "\n",
        "library.retrunBook(\"Harry Potter\",book2);\n",
        "book2.bookInformation();\n",
        "\n",
        "library.bookList();\n",
        "\n",
        "\n",
        "\n"
      ],
      "metadata": {
        "id": "C2CF1lTmPxKN"
      },
      "execution_count": null,
      "outputs": []
    }
  ]
}