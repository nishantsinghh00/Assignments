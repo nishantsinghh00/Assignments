{
  "nbformat": 4,
  "nbformat_minor": 0,
  "metadata": {
    "colab": {
      "provenance": []
    },
    "kernelspec": {
      "name": "python3",
      "display_name": "Python 3"
    },
    "language_info": {
      "name": "python"
    }
  },
  "cells": [
    {
      "cell_type": "markdown",
      "source": [
        "Q1. Explain the DOM and its role in Web development.\n",
        " - DOM(Document Object Module)it is used for manipulate HTML.\n",
        " - It represent the structure of an HTML and XML document as a tree of object.\n",
        " - It is used for to control HTML element.\n",
        " - Role in Web development:\n",
        "   - Dynamic Content Update: DOM lets javascript change text,image,style or structure without reloding the whole page.\n",
        "   - User Interaction Handling: DOM allows add eventListner on HTML element(like click,form submission or key press).\n",
        "   - Cross Language Bridge: The DOM acts bride between HTML,CSS and javascript.\n",
        "   - Creating/Removing Element: DOM allows to create or remove HTML element in running browser."
      ],
      "metadata": {
        "id": "8oAJbyO6DzOy"
      }
    },
    {
      "cell_type": "markdown",
      "source": [
        "Q2. Explain the concept of event delegation and provide a scenario where it is beneficial.\n",
        " - Event Delegation is a technique in javascript, insted of adding event listners to multiple child element, you can add single event listner to the parent element.\n",
        " - The event \"bubbles up\" from child to parent and parent detect which child element triggerd event.\n",
        " - Where it is beneficial:\n",
        "   - Dynamic Content: When child element are added or removed frequently(ex: to-do list , chat message).\n",
        "   - Performance: Avoid adding hunderds/thousands event listner to individual element.\n",
        "   - Code Simplicity: Manage all similar events in one place."
      ],
      "metadata": {
        "id": "4hdWBMrMGZG4"
      }
    },
    {
      "cell_type": "code",
      "execution_count": null,
      "metadata": {
        "id": "sD3tgjsyDqBg"
      },
      "outputs": [],
      "source": [
        "// without use of event delegation\n",
        "document.querySelectorAll(\"#menu li\").forEach(iteam => {\n",
        "    iteam.addEventListener('click',(event)=>{\n",
        "        console.log(\"you clicked\");\n",
        "    });\n",
        "});\n",
        "// with use of event delegation\n",
        "document.querySelector(\"#menu\").addEventListener('click',(event)=>{\n",
        "    if(event.target.tagName === \"li\"){\n",
        "        console.log(\"you clicked\");\n",
        "    }\n",
        "});"
      ]
    },
    {
      "cell_type": "markdown",
      "source": [
        "Q3. Explain the concept of Event Bubbling in the DOM.\n",
        " - Event Bubbling is a mechanism in javascirpt in which event starts form target element(the actual element clicked or iterected with)and then propagates upwards through ancestor(parent -> grandparent -> all the way to document).\n",
        " - The event \"bubbles up\" form deepest element to the outermost element."
      ],
      "metadata": {
        "id": "HUlvGJOFKFU3"
      }
    },
    {
      "cell_type": "markdown",
      "source": [
        "Q4. Explain the purpose of the addEventListener method in JavaScript and how it facilitates event handling in the DOM.\n",
        " - addEventListener method in javascript is used to attach event handler to the DOM element.\n",
        " - It is used to listen specific event(like click , doubleclick , mousehover etc) and add specific code that runs after event.\n",
        " - It takes name of event(like click , doubleclick etc) and one callback function.\n",
        " - How it facilitates event handling in the DOM.\n",
        "   - Flexiable Event Managment: Ypu can add or removes event handler dynamically.\n",
        "   - Works with event bubbling and Capturing: By Default, it listens in bubbling phase.\n",
        "   - Allows Multipler event listner on a same element.\n",
        "   - Enables dynamic sclable interaction."
      ],
      "metadata": {
        "id": "FeGna9lILis8"
      }
    },
    {
      "cell_type": "markdown",
      "source": [
        "Q5. Create an HTML page with a button. Use JavaScript to display an alert when the button is clicked"
      ],
      "metadata": {
        "id": "Y-vuN3iAPAcE"
      }
    },
    {
      "cell_type": "code",
      "source": [
        "<!DOCTYPE html>\n",
        "<html lang=\"en\">\n",
        "<head>\n",
        "    <meta charset=\"UTF-8\">\n",
        "    <meta name=\"viewport\" content=\"width=device-width, initial-scale=1.0\">\n",
        "    <title>Display Alert Button</title>\n",
        "    <style>\n",
        "        body {\n",
        "            margin: 0;\n",
        "            padding: 0;\n",
        "        }\n",
        "        button {\n",
        "            margin: 20px;\n",
        "            padding: 5px 2px;\n",
        "            background-color: red;\n",
        "            color: white;\n",
        "        }\n",
        "    </style>\n",
        "</head>\n",
        "<body>\n",
        "    <button>Click me!</button>\n",
        "    <script>\n",
        "        document.querySelector(\"button\").addEventListener('click',(event)=>{\n",
        "            alert(\"button is clicked\");\n",
        "        });\n",
        "    </script>\n",
        "</body>\n",
        "</html>"
      ],
      "metadata": {
        "id": "ZDirdDDGRBuj"
      },
      "execution_count": null,
      "outputs": []
    },
    {
      "cell_type": "markdown",
      "source": [
        "Q6. Create a simple image carousel using HTML and JavaScript, Design a basic HTML structure with images, and use JavaScript to implement functionality that allows users to navigate through the images"
      ],
      "metadata": {
        "id": "K62Wis0jRPJo"
      }
    },
    {
      "cell_type": "code",
      "source": [
        "// HTML and CSS file\n",
        "\n",
        "<!DOCTYPE html>\n",
        "<html lang=\"en\">\n",
        "<head>\n",
        "    <meta charset=\"UTF-8\">\n",
        "    <meta name=\"viewport\" content=\"width=device-width, initial-scale=1.0\">\n",
        "    <title>Image Carousel</title>\n",
        "    <style>\n",
        "        body {\n",
        "            margin: 0;\n",
        "            padding: 0;\n",
        "            background-color: #3f3f3f;\n",
        "            display: flex;\n",
        "            justify-content: center;\n",
        "        }\n",
        "        #imageCarousel {\n",
        "            width: 80vw;\n",
        "            height: 60vh;\n",
        "            margin-top: 20px;\n",
        "        }\n",
        "        #image {\n",
        "            width: 100%;\n",
        "            height: 50vh;\n",
        "        }\n",
        "        #nextPerviousBtnSection {\n",
        "            margin-top: 30px;\n",
        "            width: 100%;\n",
        "            display: flex;\n",
        "            justify-content: space-around;\n",
        "        }\n",
        "        .btn {\n",
        "            background-color: #9c2531;\n",
        "            color: white;\n",
        "            padding: 0.5rem;\n",
        "        }\n",
        "    </style>\n",
        "</head>\n",
        "<body>\n",
        "    <div id=\"imageCarousel\">\n",
        "        <img src=\"\" alt=\"\" id=\"image\">\n",
        "        <div id=\"nextPerviousBtnSection\">\n",
        "            <button id=\"perviousBtn\" class=\"btn\">Pervious</button>\n",
        "            <button id=\"nextBtn\" class=\"btn\">Next</button>\n",
        "        </div>\n",
        "    </div>\n",
        "    <script src=\"./problem02.js\"></script>\n",
        "</body>\n",
        "</html>\n",
        "\n",
        "\n",
        "// Javascript file\n",
        "\n",
        "const imageArrray = [\"https://images.unsplash.com/photo-1534972195531-d756b9bfa9f2?w=900&auto=format&fit=crop&q=60&ixlib=rb-4.1.0&ixid=M3wxMjA3fDB8MHxzZWFyY2h8MTl8fGNvZGluZ3xlbnwwfHwwfHx8MA%3D%3D\",\n",
        "    \"https://plus.unsplash.com/premium_photo-1661877737564-3dfd7282efcb?w=900&auto=format&fit=crop&q=60&ixlib=rb-4.1.0&ixid=M3wxMjA3fDB8MHxzZWFyY2h8MXx8Y29kaW5nfGVufDB8fDB8fHww\",\n",
        "    \"https://images.unsplash.com/photo-1461749280684-dccba630e2f6?w=900&auto=format&fit=crop&q=60&ixlib=rb-4.1.0&ixid=M3wxMjA3fDB8MHxzZWFyY2h8Mnx8Y29kaW5nfGVufDB8fDB8fHww\",\n",
        "    \"https://media.istockphoto.com/id/1343499203/photo/lock-data-concept.webp?a=1&b=1&s=612x612&w=0&k=20&c=QtUXjfW623h-jS_nRLTeYNAbUm5uFMUIv3syzrbzC08=\",\n",
        "    \"https://plus.unsplash.com/premium_photo-1663100722417-6e36673fe0ed?w=900&auto=format&fit=crop&q=60&ixlib=rb-4.1.0&ixid=M3wxMjA3fDB8MHxzZWFyY2h8OXx8Y29kaW5nfGVufDB8fDB8fHww\",\n",
        "    \"https://plus.unsplash.com/premium_photo-1685086785054-d047cdc0e525?w=900&auto=format&fit=crop&q=60&ixlib=rb-4.1.0&ixid=M3wxMjA3fDB8MHxzZWFyY2h8MTN8fGNvZGluZ3xlbnwwfHwwfHx8MA%3D%3D\"\n",
        "];\n",
        "let i=0;\n",
        "// let x=imageArrray.length-1;\n",
        "const image = document.querySelector(\"#image\");\n",
        "const nextBtn = document.querySelector(\"#nextBtn\");\n",
        "const perviousBtn = document.querySelector(\"#perviousBtn\");\n",
        "image.src =\"https://images.unsplash.com/photo-1534972195531-d756b9bfa9f2?w=900&auto=format&fit=crop&q=60&ixlib=rb-4.1.0&ixid=M3wxMjA3fDB8MHxzZWFyY2h8MTl8fGNvZGluZ3xlbnwwfHwwfHx8MA%3D%3D\";\n",
        "\n",
        "// function for nextImage\n",
        "function nextImage() {\n",
        "    if(i === imageArrray.length-1){\n",
        "        i = 0;\n",
        "    } else {\n",
        "        i++;\n",
        "    }\n",
        "    image.src = `${imageArrray[i]}`;\n",
        "}\n",
        "\n",
        "\n",
        "// function for perviousImage\n",
        "function perviousImage() {\n",
        "    if(i === 0){\n",
        "        i = imageArrray.length-1;\n",
        "    } else {\n",
        "        i--;\n",
        "    }\n",
        "    image.src =`${imageArrray[i]}`;\n",
        "}\n",
        "\n",
        "nextBtn.addEventListener('click',(event)=>{\n",
        "    nextImage();\n",
        "});\n",
        "\n",
        "perviousBtn.addEventListener('click',(event)=>{\n",
        "    perviousImage();\n",
        "});"
      ],
      "metadata": {
        "id": "Vr-nxjrHc7ao"
      },
      "execution_count": null,
      "outputs": []
    },
    {
      "cell_type": "markdown",
      "source": [
        "Q7. Build a dynamic dropdown menu using HTML and JavaScript. Create an HTML structure for a navigation menu with dropdowns. Use JavaScript to toggle the visibility of dropdowns when the user hovers over menu\n",
        "items."
      ],
      "metadata": {
        "id": "bOaK0NppjnOx"
      }
    },
    {
      "cell_type": "code",
      "source": [
        "//HTML and CSS file\n",
        "\n",
        "<!DOCTYPE html>\n",
        "<html lang=\"en\">\n",
        "<head>\n",
        "    <meta charset=\"UTF-8\">\n",
        "    <meta name=\"viewport\" content=\"width=device-width, initial-scale=1.0\">\n",
        "    <title>Dropdown Menu</title>\n",
        "    <style>\n",
        "        body {\n",
        "            margin: 0;\n",
        "            padding: 0;\n",
        "            background-color: #e6e8e6;\n",
        "        }\n",
        "        #menuList {\n",
        "            margin-top: 20px;\n",
        "            margin-left: 50px;\n",
        "            cursor: pointer;\n",
        "            width: 80px;\n",
        "        }\n",
        "        #menuList li {\n",
        "            margin: 5px;\n",
        "            text-decoration: underline;\n",
        "            color: blue;\n",
        "        }\n",
        "    </style>\n",
        "</head>\n",
        "<body>\n",
        "    <ul id=\"menuList\">\n",
        "        <li id=\"home\">Home</li>\n",
        "        <li id=\"servicesList\">Services</li>\n",
        "        <li id=\"content\">Content</li>\n",
        "    </ul>\n",
        "    <script src=\"./problem03.js\"></script>\n",
        "</body>\n",
        "</html>\n",
        "\n",
        "\n",
        "// Javascript file\n",
        "\n",
        "const menuList = document.querySelector(\"#menuList\");\n",
        "const services = document.querySelector(\"#servicesList\");\n",
        "let dropDownList;\n",
        "\n",
        "function dropDownMenu() {\n",
        "    dropDownList = document.createElement(\"ul\");\n",
        "    dropDownList.setAttribute(\"id\",\"dropDownList\");\n",
        "    for(let i=1 ; i<6 ; i++){\n",
        "        const dropDownListItem = document.createElement(\"li\");\n",
        "        dropDownListItem.setAttribute(\"class\",\"dropDownListItem\");\n",
        "        dropDownListItem.textContent = `Submenu${i}`;\n",
        "        dropDownListItem.style.textDecoration = \"underline\";\n",
        "        dropDownListItem.style.color = \"blue\";\n",
        "        dropDownList.appendChild(dropDownListItem);\n",
        "    }\n",
        "    services.appendChild(dropDownList);\n",
        "}\n",
        "\n",
        "services.addEventListener('mouseover',(event)=>{\n",
        "    dropDownMenu();\n",
        "    console.log(\"hello\");\n",
        "});\n",
        "services.addEventListener('mouseout',(event)=>{\n",
        "    dropDownList.style.display = \"none\";\n",
        "})"
      ],
      "metadata": {
        "id": "f6sXfkFHjtk9"
      },
      "execution_count": null,
      "outputs": []
    },
    {
      "cell_type": "markdown",
      "source": [
        "Q8. Create a simple dynamic shopping list with the following features\n",
        " - The item should appear in the list?\n",
        " - Each item should be given a button that can be pressed to delete that item off the list?\n",
        " - The input should be emptied and focused ready for you to enter another item"
      ],
      "metadata": {
        "id": "L2OH5RQKkSJx"
      }
    },
    {
      "cell_type": "code",
      "source": [
        "// HTML and CSS file\n",
        "\n",
        "<!DOCTYPE html>\n",
        "<html lang=\"en\">\n",
        "<head>\n",
        "    <meta charset=\"UTF-8\">\n",
        "    <meta name=\"viewport\" content=\"width=device-width, initial-scale=1.0\">\n",
        "    <title>Dynamic Shpping List</title>\n",
        "    <style>\n",
        "        body {\n",
        "            margin: 0;\n",
        "            padding: 0;\n",
        "            background-color: #dedddc;\n",
        "        }\n",
        "        #inputItemSection {\n",
        "            margin: 20px;\n",
        "            width: 30vw;\n",
        "        }\n",
        "        #inputItemSection input,button {\n",
        "            padding: 0.5rem;\n",
        "        }\n",
        "        #addItemButton {\n",
        "            background-color: black;\n",
        "            color: white;\n",
        "            cursor: pointer;\n",
        "        }\n",
        "        .itemContent {\n",
        "            font-size: 25px;\n",
        "            font-weight: 900;\n",
        "            margin-top: 5px;\n",
        "            /* width: 100%; */\n",
        "            /* justify-content: space-around; */\n",
        "        }\n",
        "        .deleteItemBtn {\n",
        "            margin-left: 20px;\n",
        "            background-color: red;\n",
        "            color: white;\n",
        "        }\n",
        "    </style>\n",
        "</head>\n",
        "<body>\n",
        "    <div id=\"inputItemSection\">\n",
        "        <input type=\"text\" placeholder=\"Enter Item\"/>\n",
        "        <button id=\"addItemButton\">Add Item</button>\n",
        "    </div>\n",
        "    <script src=\"./problem04.js\"></script>\n",
        "</body>\n",
        "</html>\n",
        "\n",
        "// Javascript file\n",
        "\n",
        "const itemInput = document.querySelector(\"#inputItemSection input\");\n",
        "const inputBtn = document.querySelector(\"#inputItemSection button\");\n",
        "const section = document.querySelector(\"#inputItemSection\");\n",
        "const itemList = document.createElement(\"ul\");\n",
        "\n",
        "// function for add item\n",
        "function addItem() {\n",
        "    const itemContent = document.createElement(\"li\");\n",
        "    itemContent.setAttribute(\"class\",\"itemContent\");\n",
        "    // console.log(iteamInput.value);\n",
        "    if(itemInput.value != \"\"){\n",
        "       itemContent.innerText = itemInput.value;\n",
        "       const deleteItemBtn = document.createElement(\"button\");\n",
        "       deleteItemBtn.setAttribute(\"class\",\"deleteItemBtn\");\n",
        "       deleteItemBtn.innerHTML = \"Delete\";\n",
        "       itemContent.appendChild(deleteItemBtn);\n",
        "       itemList.addEventListener('click',(event)=>{\n",
        "        // console.log(event.target);\n",
        "        // console.log(event.target.tagName)\n",
        "        if(event.target.tagName === \"BUTTON\"){\n",
        "            // console.log(\"hii button\");\n",
        "            deleteIteam(itemContent);\n",
        "        }\n",
        "       });\n",
        "       itemList.appendChild(itemContent);\n",
        "       section.appendChild(itemList);\n",
        "    }else {\n",
        "        alert(\"Please Enter Valid Iteam\");\n",
        "    }\n",
        "    itemInput.value = \"\";\n",
        "}\n",
        "\n",
        "// function for delete item\n",
        "function deleteIteam(itemContent) {\n",
        "    itemContent.remove();\n",
        "}\n",
        "\n",
        "inputBtn.addEventListener('click',(event)=>{\n",
        "    addItem();\n",
        "});"
      ],
      "metadata": {
        "id": "J3IfRmc0TPpD"
      },
      "execution_count": null,
      "outputs": []
    }
  ]
}