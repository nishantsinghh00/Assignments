{
  "nbformat": 4,
  "nbformat_minor": 0,
  "metadata": {
    "colab": {
      "provenance": []
    },
    "kernelspec": {
      "name": "python3",
      "display_name": "Python 3"
    },
    "language_info": {
      "name": "python"
    }
  },
  "cells": [
    {
      "cell_type": "markdown",
      "source": [
        "1. Demonstrate JavaScript's Single-Threaded Nature\n",
        "\n",
        "Question:\n",
        "\n",
        "Write an example to show that JavaScript is single-threaded by creating two competing tasks, one that\n",
        "blocks the event loop and another async function that waits for a promise."
      ],
      "metadata": {
        "id": "X4hyUeQ0Iq_X"
      }
    },
    {
      "cell_type": "code",
      "execution_count": null,
      "metadata": {
        "id": "IVvS3iFeIpnD"
      },
      "outputs": [],
      "source": [
        "console.log(\"program start\");\n",
        "\n",
        "function blockTask() {\n",
        "    console.log(\"Block task is start\");\n",
        "    for(let i=0;i<100000;i++){}\n",
        "    console.log(\"Block task end\");\n",
        "}\n",
        "\n",
        "function asyncTask() {\n",
        "    console.log(\"Async task is start\");\n",
        "    new Promise(resolve=> setTimeout(resolve, 1000))\n",
        "    .then(()=>console.log(\"promise resolved after 1 sec\"));\n",
        "    console.log(\"Async task end\");\n",
        "}\n",
        "\n",
        "asyncTask();\n",
        "blockTask();\n",
        "\n",
        "console.log(\"program end\");\n"
      ]
    },
    {
      "cell_type": "markdown",
      "source": [
        "2. Why Does JavaScript Not Execute Asynchronously by Default?\n",
        "\n",
        "Question:\n",
        "\n",
        "JavaScript is often called synchronous and single-threaded, yet it handles asynchronous tasks like AJAX\n",
        "requests, timers, and event listeners.\n",
        " - Explain why JavaScript does not execute asynchronously by default.\n",
        " - Write a code snippet to prove that JavaScript is inherently synchronous.\n",
        "\n",
        "\n",
        "    - JavaScript is synchronous by default because it runs on a single thread.\n",
        "    - It only looks asynchronous when you use browser/Node APIs (setTimeout, Promises, async/await).\n",
        "    - But the underlying execution model is always: one thing at a time, managed by the event loop.\n",
        "    - Functions like setTimeout, Promises, or fetch don’t run inside JavaScript."
      ],
      "metadata": {
        "id": "8TXWMpDgI__C"
      }
    },
    {
      "cell_type": "code",
      "source": [
        "console.log(\"start\");\n",
        "function syncTask() {\n",
        "    console.log(\"sync task start\");\n",
        "    for(let i=0;i<100000;i++){};\n",
        "    console.log(\"sync task end\");\n",
        "}\n",
        "\n",
        "syncTask();\n",
        "console.log(\"end\");"
      ],
      "metadata": {
        "id": "99-Fj1jwKXc1"
      },
      "execution_count": null,
      "outputs": []
    },
    {
      "cell_type": "markdown",
      "source": [
        "3. Chaining Promises with setTimeout\n",
        "\n",
        "Modify the delay function to chain multiple promises so that three messages are logged in sequence with\n",
        "delays."
      ],
      "metadata": {
        "id": "PoS9owIWLXoS"
      }
    },
    {
      "cell_type": "code",
      "source": [
        "function delay(ms,mesg) {\n",
        "    return new Promise((resolve)=> {\n",
        "        setTimeout(()=>{\n",
        "            console.log(mesg)\n",
        "            resolve();\n",
        "        },ms);\n",
        "    });\n",
        "}\n",
        "delay(1000,\"this is first mesg\")\n",
        ".then(()=>delay(3000,\"this is second mesg\"))\n",
        ".then(()=> delay(4000,\"this is third mesg\"))\n",
        ".then(()=> console.log(\"all mesg done\"));"
      ],
      "metadata": {
        "id": "PEJ7D6SUOvPt"
      },
      "execution_count": null,
      "outputs": []
    },
    {
      "cell_type": "markdown",
      "source": [
        "4. What are the different states of a Promise, and how do they transition?\n",
        " -  There are three state of promise:\n",
        "    -  Pending state.\n",
        "       -  It is initial state of Promise.\n",
        "       -  After this it will Fulfilled or Rejected.\n",
        "    -  Fulfilled State.\n",
        "       - If promise resolved it goes to fulfilled State.\n",
        "       - The Async operation complete sucessfully.\n",
        "    -  Rejected State.\n",
        "       - If promise does not resolved or reject it goes to rejected state.\n",
        "       - The Async operation fails.\n",
        "\n",
        "Sate Transition:\n",
        " -  \tPending → Fulfilled (when resolve() is called)\n",
        " -    Pending → Rejected (when reject() is called)\n",
        " -    Once settled (fulfilled or rejected), a promise becomes immutable → it cannot change state again."
      ],
      "metadata": {
        "id": "NvTvi90HOxyi"
      }
    },
    {
      "cell_type": "markdown",
      "source": [
        "5. How does the JavaScript event loop handle Promises differently from setTimeout?\n",
        " - JavaScipt runs on single thread with event loop which manage two queues.\n",
        " 1. Microtask Queue:\n",
        "  -  All the promise handler are store in this queue.\n",
        "  -  Runs after all the global code excute.\n",
        "  -  Event loop give more priority then Callback queue.\n",
        "\n",
        " 2. Callback Queue:\n",
        "  -  Contains setTimeout,setInterval,setImmidiate etc.\n",
        "  -  Runs after all Microtask excutes.\n"
      ],
      "metadata": {
        "id": "j_j1tM90Q3tY"
      }
    }
  ]
}