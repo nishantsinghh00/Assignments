{
  "nbformat": 4,
  "nbformat_minor": 0,
  "metadata": {
    "colab": {
      "provenance": []
    },
    "kernelspec": {
      "name": "python3",
      "display_name": "Python 3"
    },
    "language_info": {
      "name": "python"
    }
  },
  "cells": [
    {
      "cell_type": "markdown",
      "source": [
        "Q1. What are conditional statements? Explain conditional statements with syntax and examples.\n",
        "-  Conditional statements in programming languge help us to make decision.If conditon is true the excute different block if false the excute different block.\n",
        "- There are two ways to write conditional statements are:\n",
        "  - 1. if , else.\n",
        "  - 2.  if , else if ,else(if else ladder).\n",
        "- if works without else but else doesn't work alone.\n"
      ],
      "metadata": {
        "id": "nqgOfCuqIRQA"
      }
    },
    {
      "cell_type": "code",
      "execution_count": null,
      "metadata": {
        "id": "U745GK5xILhr"
      },
      "outputs": [],
      "source": [
        "// Syntex\n",
        "/*\n",
        "if(condition) {\n",
        " instruction block\n",
        "} else {\n",
        " instruction block\n",
        "}\n",
        "*/\n",
        "// check number is odd or even\n",
        "let a=6;\n",
        "if (a/2 == 0) {\n",
        "    console.log(\"this number is even\");\n",
        "} else {\n",
        "    console.log(\"this no. odd\");\n",
        "}\n"
      ]
    },
    {
      "cell_type": "markdown",
      "source": [
        "Q2. Write a program that grades students based on their marks^\n",
        "- If greater than 90 then A GradE\n",
        "- If between 70 and 90 then a B gradE\n",
        "- If between 50 and 70 then a C gradE\n",
        "- Below 50 then an F grade"
      ],
      "metadata": {
        "id": "2YRRtYOELMih"
      }
    },
    {
      "cell_type": "code",
      "source": [
        "let marks=90;\n",
        "let grade;\n",
        "if(90 <  marks <=100) {\n",
        "grade = \"A\";\n",
        "console.log(\"Grade of this student is: \"+grade);\n",
        "} else if(70 < marks <= 90) {\n",
        "grade = \"B\";\n",
        "console.log(\"Grade of this student is: \"+grade);\n",
        "} else if(50 < marks <= 70) {\n",
        "grade = \"C\";\n",
        "console.log(\"Grade of this student is: \"+grade);\n",
        "} else {\n",
        "grade = \"F\";\n",
        "console.log(\"Grade of this student is:\"+grade);\n",
        "}\n"
      ],
      "metadata": {
        "id": "coJd-OgdLZvF"
      },
      "execution_count": null,
      "outputs": []
    },
    {
      "cell_type": "markdown",
      "source": [
        "Q3. What are loops, and what do we need them? Explain different types of loops with their syntax and\n",
        "examples.\n",
        "- Loops are programing contructor that used to excute block of code repeatedly untile the condition is true.\n",
        "- When we need to excute block of code repeadtedly we use loops.\n",
        "- There are three types of loops:\n",
        "- 1. for loop:\n",
        "   -  In this loop we intilize the value and condition and updater at top.\n",
        "     -  for(let x=0;x<10;x++) {block of instruction}\n",
        "- 2. while loop:\n",
        "   - In this loop we write only condition at top and write updater inside loop.\n",
        "   - while(x<10) {block of instruction; x++;}\n",
        "- 3. do while loop:\n",
        "   - This is same as while but we write condition at last we start block with do.If condition is false it will excute code once.\n",
        "   - do{block of instruction; x++;}while(condition)."
      ],
      "metadata": {
        "id": "0-SKJ46ALa8-"
      }
    },
    {
      "cell_type": "markdown",
      "source": [
        "Q4. Generate numbers between any 2 given numbers.\n",
        "\n",
        "Ex:\n",
        "- const num1 = 10;\n",
        "- const num2 = 25;\n",
        "\n",
        "Output: 11, 12, 13, …., 25"
      ],
      "metadata": {
        "id": "SF6bUTjXLgNZ"
      }
    },
    {
      "cell_type": "code",
      "source": [
        "const num1 = 10;\n",
        "const num2 = 25;\n",
        "for(let x = (num1+1);x <= num2;x++) {\n",
        "    console.log(x);\n",
        "}\n"
      ],
      "metadata": {
        "id": "iK8ghxnALkWs"
      },
      "execution_count": null,
      "outputs": []
    },
    {
      "cell_type": "markdown",
      "source": [
        "Q5. Use the while loop to print numbers from 1 to 25 in ascending and descending order."
      ],
      "metadata": {
        "id": "00k7pPOwL5_l"
      }
    },
    {
      "cell_type": "code",
      "source": [
        "let x=25;\n",
        "// for ascending order\n",
        "if(x === 1) {\n",
        "    while(x <= 25) {\n",
        "       console.log(x);\n",
        "       x++;\n",
        "    }\n",
        "}\n",
        "// for descending order\n",
        "else if(x === 25) {\n",
        "    while(x > 0) {\n",
        "        console.log(x);\n",
        "        x--;\n",
        "    }\n",
        "}\n"
      ],
      "metadata": {
        "id": "Bzgkl9cQL9OZ"
      },
      "execution_count": null,
      "outputs": []
    }
  ]
}