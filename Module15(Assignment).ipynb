{
  "nbformat": 4,
  "nbformat_minor": 0,
  "metadata": {
    "colab": {
      "provenance": []
    },
    "kernelspec": {
      "name": "python3",
      "display_name": "Python 3"
    },
    "language_info": {
      "name": "python"
    }
  },
  "cells": [
    {
      "cell_type": "markdown",
      "source": [
        "Q1. Explain what version control is and its importance in software development.\n",
        " -  Version control is track our code and file.\n",
        "    -  It tracks if someone else made change in code.\n",
        "    -  It store code and file history in our local system.\n",
        "    -  It make commit of every checkpoint of our code.\n",
        "    -  We can go easily on any checkpoint that we commit in past.\n",
        " - Importance in Software development:\n",
        "    -  We can esily collaborate with our teammates.\n",
        "    -  We can easily indentify which teammate write this code.\n",
        "    -  It tracks change that made other teammate."
      ],
      "metadata": {
        "id": "SkJeSIjS_RlO"
      }
    },
    {
      "cell_type": "markdown",
      "source": [
        "Q2. Explain the Git Workflow, including the staging area, working directory, and repository.\n",
        " -  Git workflow:\n",
        "  -  1. Init:\n",
        "     -  In first step we  initializes the git in our Working directory.\n",
        "     - In this step our file are untracked.\n",
        "  -  2. Add:\n",
        "     -  In second step we add our files and folders to stanging area.\n",
        "     -  Which flie who are in stanging area are defentialy commit in next commit step.\n",
        "  - 3. Commit:\n",
        "    - In this step we commmit our files which our in staging area.\n",
        "    - Git take a screenshot and store in database.\n",
        "    - Git makes commit id that that point to our this screenshot.\n",
        "    - Git make repository of screenshot.\n",
        " - Staging area: Which file are in staging area are defentialy goes to commit.Staging area are the mid area between change in file or commit file.We can add only those file which we want to add in staging area and goes to next commmit.\n",
        " - Working Directory: Working Directory are dictory which we working currently.We use init to initialize git in our working directory.\n",
        " - Repository: Git Repository are storage where our code and history are save.\n",
        "    -  There are two types of Repository.\n",
        "       - Local repository: Store our code and history in local system.\n",
        "       - Remote repository: Store our code at global platform(Github , Gitlab ,etc) other can see our code.\n"
      ],
      "metadata": {
        "id": "ID8KEQ_VBXBX"
      }
    },
    {
      "cell_type": "markdown",
      "source": [
        "Q3. Explain what .gitignore is and why it’s important in version control.\n",
        " -  .gitignore is special file in git folder which tells which files and folder are ignore in next commiting changes.\n",
        " - Important in version control:\n",
        "   - Keeps repo clean\n",
        "   - Provide security for our sensitive data.\n",
        "   -  Improves Performance.\n"
      ],
      "metadata": {
        "id": "-CGsB_XvGSpr"
      }
    },
    {
      "cell_type": "markdown",
      "source": [
        "Q4. Briefly explain what GitHub is and how it facilitates collaboration and version control also name some\n",
        "alternatives to GitHub.\n",
        "-  Github is cloud-based online platform where we uploade our code(push) and others see our code and pull code in her local system.\n",
        "-  Githud is opensource platform where we can pull anybody code in free of cost or collaborate with others.We can give some contribution in others code.\n",
        "-  It facilitates collaboration and version control in many ways are:\n",
        "   - 1. Version Control: It tracks our code but not in local system.We can compare our code with older version.\n",
        "   - 2. Branching & Merging: We collaborate with others very easily with the help of Branch. Both teammates work in same time but in differnet branch and don't inferfare in other code.\n",
        "   - 3. Pull Request: As i say it is open source so we change in other code only if we give some valuable change and generte pull request if owner wants change then he merge.\n",
        "   - Issue & Discussion: We can made discussion with our teammates on issue or bug in code and easliy fix it(debug).\n",
        "   - Action log: Keep the history what change and who did.\n",
        "-  Some version control rather then github are:\n",
        "   - 1. Git-Lab\n",
        "   - 2. Bitbucket\n",
        "   - 3. Azure Repos"
      ],
      "metadata": {
        "id": "24B1bpQlJO3W"
      }
    },
    {
      "cell_type": "markdown",
      "source": [
        "Q5. Describe the process of contributing to any open-source project on GitHub in a step-by-step manner.\n",
        "- Process of contributing to any open-source project on GitHub in a step-by-step manner are:\n",
        "  -  1. Find a project:\n",
        "     -  Find any project on github that you think you give some valuable and better change in code.\n",
        "  -  2. Fork the Repositary:\n",
        "     -  Click the fork buttom on the top right of the project.\n",
        "     -  It sets your own copy of code in your github account.\n",
        "  -  3. Set the remote path of your github account in VS code using(remote add orgin \"your github account\") then remote -v it sets the path.\n",
        "  -  4. Make clone Fork localy: pull the code from your github account to your local system.\n",
        "  -  5. Create new Branch: Create new branch with some reasonable name.\n",
        "  -  6. Make your Changes: Make change that you think is better and valuable.\n",
        "  -  7. Commit your Work.\n",
        "  -  8. Finally Push your work on fork.\n",
        "  -  9. Create pull request: Go to the original repo and Click Compare & Pull request.\n",
        "  -  10. If owner wants to merge then he accept your request and merge in orginal repo.\n",
        "  **NOTE* : Only if you have really good or better idea to add some valuable change in code only then do this. Not do to unnecessary change like chnage in Readme file."
      ],
      "metadata": {
        "id": "7iGL0OmL-DLS"
      }
    },
    {
      "cell_type": "markdown",
      "source": [
        "Q6. Deploy Tailwind projects named Youtube, slack, and Gmail clones on GitHub pages and share the deployed link of those three. Expected output - Live hosted URL Link of your deployed respective website with\n",
        "GitHub pages.\n",
        "\n",
        "-  Sir i make youtube clone using tailwindcss through vite setup this is git repo link https://github.com/nishantsinghh00/Youtube-Clone . And this is  https://nishantsinghh00.github.io/Youtube-Clone/ live url link through github. But sir my tailwindcss not work in live url its only work in local host url. I try a lot but that knowldege i have i can't able to fix it."
      ],
      "metadata": {
        "id": "6qaEXCrzCeok"
      }
    }
  ]
}