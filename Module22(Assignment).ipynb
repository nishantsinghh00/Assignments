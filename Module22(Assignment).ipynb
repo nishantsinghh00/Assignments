{
  "nbformat": 4,
  "nbformat_minor": 0,
  "metadata": {
    "colab": {
      "provenance": []
    },
    "kernelspec": {
      "name": "python3",
      "display_name": "Python 3"
    },
    "language_info": {
      "name": "python"
    }
  },
  "cells": [
    {
      "cell_type": "markdown",
      "source": [
        "Q1: Understanding Arrow Functions & Lexical this\n",
        "\n",
        "Consider the following code and predict the output. Explain why the behavior occurs\n",
        "\n",
        " -  Output Is: Hello, my name is Alice.\n",
        "\n",
        " -  In arrow function this is lexical bond so it correctly refers to the person object."
      ],
      "metadata": {
        "id": "RmnBCU1UvI56"
      }
    },
    {
      "cell_type": "markdown",
      "source": [
        "Q2: Convert Traditional Functions to Arrow Functions\n",
        "\n",
        "Rewrite the following function using arrow functions without changing the behavior."
      ],
      "metadata": {
        "id": "6LPMUqEYwEai"
      }
    },
    {
      "cell_type": "code",
      "source": [
        "const multiply = (a,b) => a*b;\n",
        "\n",
        "const obj = {\n",
        "    value: 10,\n",
        "    add: (num) => num+obj.value\n",
        "};\n",
        "\n",
        "console.log(multiply(5,3));\n",
        "console.log(obj.add(5));\n"
      ],
      "metadata": {
        "id": "-Pv17rIs4hvu"
      },
      "execution_count": null,
      "outputs": []
    },
    {
      "cell_type": "markdown",
      "source": [
        "Q3: Handling Errors in Async-Await (Try-Catch Required)\n",
        "\n",
        "Modify the following function to use async-await and proper error handling (try-catch)."
      ],
      "metadata": {
        "id": "a1Gwjkmj4jI6"
      }
    },
    {
      "cell_type": "code",
      "execution_count": null,
      "metadata": {
        "id": "EtXH_MSPu9tP"
      },
      "outputs": [],
      "source": [
        "function fetchData () {\n",
        "    return new Promise((resolve,reject)=>{\n",
        "        setTimeout(()=>{\n",
        "               let success = Math.random() > 0.5;\n",
        "               success ? resolve (\"Data received\"): reject (\"Error fecthing data\");\n",
        "        },2000)\n",
        "    });\n",
        "}\n",
        "async function asyncFunc() {\n",
        "    try {\n",
        "        let fetch = await fetchData();\n",
        "        console.log(fetch);\n",
        "    }\n",
        "    catch(error){\n",
        "        console.log(error);\n",
        "    }\n",
        "}\n",
        "asyncFunc();"
      ]
    },
    {
      "cell_type": "markdown",
      "source": [
        "Q4: Async Function with Multiple Await Calls\n",
        "\n",
        "Write an async function that:\n",
        "1. Fetches user data after 1 second.\n",
        "2. Fetches order details after 2 seconds.\n",
        "3. Fetches payment status after 3 seconds.\n",
        "4. Logs the final \"Order completed\" message.\n",
        "5. Use await to ensure each step executes sequentially.\n"
      ],
      "metadata": {
        "id": "YeHuLdifiLP_"
      }
    },
    {
      "cell_type": "code",
      "source": [
        "const fetchUserData = () =>{\n",
        "    return new Promise((resolved,reject)=>{\n",
        "        setTimeout(()=> {\n",
        "            resolved(\"User data fecthed\");\n",
        "        },1000);\n",
        "    });\n",
        "};\n",
        "const fetchOrderDetails = () => {\n",
        "    return new Promise((resolved,reject)=>{\n",
        "        setTimeout(()=>{\n",
        "            resolved(\"Order details fetched\");\n",
        "        },2000);\n",
        "    });\n",
        "};\n",
        "const paymentStatus = () => {\n",
        "    return new Promise((resolved,reject)=>{\n",
        "        setTimeout(()=>{\n",
        "            resolved(\"Payment Status fetched\");\n",
        "        },3000)\n",
        "    });\n",
        "};\n",
        "async function fetchData() {\n",
        "    console.log(\"Fecthing start\");\n",
        "    try {\n",
        "        let userData = await fetchUserData();\n",
        "        console.log(userData);\n",
        "        let orderDetail = await fetchOrderDetails();\n",
        "        console.log(orderDetail);\n",
        "        let payment = await paymentStatus();\n",
        "        console.log(payment);\n",
        "        console.log(\"Order Completed\");\n",
        "    }\n",
        "    catch(error) {\n",
        "        console.log(error);\n",
        "    }\n",
        "}\n",
        "fetchData();"
      ],
      "metadata": {
        "id": "pzVb7mSjilMj"
      },
      "execution_count": null,
      "outputs": []
    },
    {
      "cell_type": "markdown",
      "source": [
        "Q5: Handling Synchronous Errors with try-catch\n",
        "\n",
        "Write a function that:\n",
        "1. Accepts a string input.\n",
        "2. Converts it to a number and returns its square.\n",
        "3. Uses try-catch to handle cases where the input is not a valid number.\n",
        "4. If the error occurs, return \"Invalid Input\" instead of crashing."
      ],
      "metadata": {
        "id": "eTp6rmUjmVJh"
      }
    },
    {
      "cell_type": "code",
      "source": [
        "function syncError(numString) {\n",
        "    try{\n",
        "        let num = Number(numString);\n",
        "        if(isNaN(num)) {\n",
        "            throw new error(\"Not an number\");\n",
        "        }\n",
        "        return num*num;\n",
        "    }\n",
        "    catch(error){\n",
        "        return \"Invalid Input\";\n",
        "    }\n",
        "}\n",
        "console.log(syncError(\"15\"));\n",
        "console.log(syncError(\"10\"));\n",
        "console.log(syncError(\"hello\"));\n"
      ],
      "metadata": {
        "id": "KJlEmvfymi3M"
      },
      "execution_count": null,
      "outputs": []
    }
  ]
}