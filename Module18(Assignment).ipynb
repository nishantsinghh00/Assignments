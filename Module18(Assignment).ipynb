{
  "nbformat": 4,
  "nbformat_minor": 0,
  "metadata": {
    "colab": {
      "provenance": []
    },
    "kernelspec": {
      "name": "python3",
      "display_name": "Python 3"
    },
    "language_info": {
      "name": "python"
    }
  },
  "cells": [
    {
      "cell_type": "markdown",
      "source": [
        "1. In the following shopping cart add, remove, and edit items\n",
        "\n",
        "=> const shoppingCart = ['Milk', 'Coffee', 'Tea', 'Honey']\n",
        "  - add 'Meat' in the beginning of your shopping cart if it has not been already added\n",
        "  - add Sugar at the end of you shopping cart if it has not been already added\n",
        "  - remove 'Honey' if you are allergic to honey\n",
        "  - modify Tea to 'Green Tea'"
      ],
      "metadata": {
        "id": "v7MHo--Lh48M"
      }
    },
    {
      "cell_type": "code",
      "source": [
        "const shoppingCart = [\"Milk\",\"Coffe\",\"Tea\",\"Honey\"];\n",
        "// Adding meat if not present in cart\n",
        "if(shoppingCart.includes(\"Meat\",0)) {\n",
        "    console.log(\"Meat is already present in cart\");\n",
        "}\n",
        "else {\n",
        "    shoppingCart.unshift(\"Meat\");\n",
        "    console.log(shoppingCart);\n",
        "}\n",
        "// Adding sugar if it is not already present in cart\n",
        "if(shoppingCart.includes(\"Sugar\",0)) {\n",
        "    console.log(\"Sugar is already present in cart\");\n",
        "}\n",
        "else {\n",
        "    shoppingCart.push(\"Sugar\");\n",
        "    console.log(shoppingCart);\n",
        "}\n",
        "// Removing honey if you are allgeric to honey\n",
        "let allgeric = true;\n",
        "if(allgeric) {\n",
        "    shoppingCart.splice(4,1);\n",
        "    console.log(shoppingCart);\n",
        "}\n",
        "shoppingCart[3] = \"Green Tea\";\n",
        "console.log(shoppingCart);\n",
        "\n",
        "\n"
      ],
      "metadata": {
        "id": "skix-PopiX09"
      },
      "execution_count": null,
      "outputs": []
    },
    {
      "cell_type": "markdown",
      "source": [
        "2. The following is an array of 10 students ages:\n",
        "\n",
        "\n",
        "=> const ages = [19, 22, 19, 24, 20, 25, 26, 24, 25, 24O]\n",
        "  - Sort the array and find the min and max age\n",
        "  - Find the median age(one middle item or two middle items divided by two)\n",
        "  - Find the average age(all items divided by number of items)\n",
        "  - Find the range of the ages(max minus min)\n",
        "  - Compare the value of (min - average) and (max - average), use abs() method\n"
      ],
      "metadata": {
        "id": "UQzIypI2icF4"
      }
    },
    {
      "cell_type": "code",
      "execution_count": null,
      "metadata": {
        "id": "TthjrOXzhyzv"
      },
      "outputs": [],
      "source": [
        "const ages = [19,22,19,24,20,25,26,24,25,24];\n",
        "// Finding min and max age\n",
        "ages.sort();\n",
        "console.log(ages);\n",
        "console.log(`Minimum age: ${ages[0]}`);\n",
        "console.log(`Maximum age: ${ages[ages.length-1]}`);\n",
        "// Finding median age\n",
        "let middleAge = ages[ages.length/2];\n",
        "console.log(`Median age: ${middleAge}`);\n",
        "// Finding Average age\n",
        "let totalAge = 0;\n",
        "ages.forEach(ages => {\n",
        "    totalAge += ages;\n",
        "});\n",
        "let averageAge = totalAge/ages.length;\n",
        "console.log(`Average age: ${averageAge}`);\n",
        "// Range of Ages\n",
        "let range =  ages[ages.length-1] - ages[0];\n",
        "console.log(`Range of age is: ${range}`);\n",
        "// Comparing value\n",
        "let minAverage = Math.abs(ages[0] - averageAge);\n",
        "console.log(minAverage);\n",
        "let maxAverage = Math.abs(ages[ages.length-1] - averageAge);\n",
        "console.log(maxAverage);\n",
        "if (Math.abs(minAverage - maxAverage) < 4) {\n",
        "    console.log(\"Values are closed!\");\n",
        "}\n",
        "else {\n",
        "    console.log(\"Values are far apart\");\n",
        "}"
      ]
    },
    {
      "cell_type": "markdown",
      "source": [
        "3. Object Extensibility and Sealing\n",
        "\n",
        "\n",
        "a) Use the Object.preventExtensions method to prevent any further additions of properties to the student object.\n",
        "\n",
        "b) Use the Object.isExtensible method to check if the student object is extensible. Store the result in a variable\n",
        "called extensibleStatus.\n",
        "\n",
        "c) Create a new object called teacher with a 'subject' property set to 'Math'.\n",
        "\n",
        "d) Use the Object.seal method to seal the teacher object, preventing any additions or deletions of properties.\n",
        "\n",
        "e) Use the Object.isSealed method to check if the teacher object is sealed. Store the result in a variable called\n",
        "sealedStatus.\n",
        "\n",
        "f) Print the extensibleStatus and sealedStatus to the consol"
      ],
      "metadata": {
        "id": "ojBgliRui-Wl"
      }
    },
    {
      "cell_type": "code",
      "source": [
        "//use object.preventExtensions method\n",
        "\n",
        "const student = {name:\"nishant\",rollNo:29484984,email:\"jdhhdjhdh@gmail.com\"};\n",
        "console.log(student);\n",
        "// Object.preventExtensions(student);\n",
        "\n",
        "// use object.isExtensible method\n",
        "\n",
        "let extensibleStatus = Object.isExtensible(student);\n",
        "// console.log(extensibleStatus);\n",
        "\n",
        "// new teacher object\n",
        "\n",
        "const teacher ={subject:\"Math\"};\n",
        "Object.seal(teacher);\n",
        "let sealedStatus = Object.isSealed(teacher);\n",
        "\n",
        "\n",
        "console.log(extensibleStatus);\n",
        "console.log(sealedStatus);"
      ],
      "metadata": {
        "id": "ml7ZLj9njFXD"
      },
      "execution_count": null,
      "outputs": []
    },
    {
      "cell_type": "markdown",
      "source": [
        "4. Assignment: Building a Student Management System\n",
        "\n",
        "\n",
        "Description:\n",
        "\n",
        "You are tasked with building a student management system using JavaScript. The system should allow you to\n",
        "perform various operations on a list of students, including adding, updating, deleting, and displaying student\n",
        "information.\n",
        "\n",
        "\n",
        "Requirements:\n",
        "\n",
        "Here is an initial array of students. Each student is represented as an object with the following properties: id,\n",
        "firstName, lastName, age, and grade.\n",
        "Implement the following functions using pure JavaScript (without any external libraries or frameworks):\n",
        "\n",
        "\n",
        "a. Add a Student: Create a function to add a new student to the array.\n",
        "\n",
        "b. Update Student Information: Create a function to update a student's information based on their id.\n",
        "\n",
        "c. Delete a Student: Create a function to delete a student based on their id.\n",
        "\n",
        "d. List All Students: Create a function to display a list of all students.\n",
        "\n",
        "e. Find Students by Grade: Create a function to find all students who have a specific grade.\n",
        "\n",
        "f. Calculate Average Age: Create a function to calculate the average age of all students using array method."
      ],
      "metadata": {
        "id": "016Jn-Y2jIL4"
      }
    },
    {
      "cell_type": "code",
      "source": [
        "const student = [];// student array\n",
        "\n",
        "// add student function\n",
        "function addStudent(id,firstName,lastName,age,garde){\n",
        "    let newObject = {id:id, FirstName:firstName, LastName:lastName, Age:age, Garde:garde};\n",
        "    student.push(newObject);\n",
        "}\n",
        "addStudent(1,\"Nishant\",\"Singh\",24,\"A\");\n",
        "addStudent(2,\"Garuav\",\"Singh\",22,\"A\");\n",
        "addStudent(3,\"Mukund\",\"Kumar\",24,\"B\")\n",
        "// console.log(student);\n",
        "\n",
        "// function for update student detail\n",
        "function updateStudentInformation(id,updatedFirstName,updatedLastName,updatedAge,updatedGarde){\n",
        "    let index = id-1;\n",
        "    student[index].FirstName = updatedFirstName; // enter what you want to upadte\n",
        "    student[index].LastName = updatedLastName;\n",
        "    student[index].Age = updatedAge;\n",
        "    student[index].Garde = updatedGarde;\n",
        "}\n",
        "updateStudentInformation(3,\"Manish\",\"Kumar\",25,\"B\");\n",
        "// console.log(student);\n",
        "\n",
        "// function for delete student infomation\n",
        "\n",
        "function deleteStudentInformation(id){\n",
        "    let index = id-1;\n",
        "    student.splice(index,index);\n",
        "}\n",
        "\n",
        "deleteStudentInformation(3);\n",
        "// console.log(student);\n",
        "\n",
        "//fuction for list all student\n",
        "\n",
        "function listOfStudent(){\n",
        "    console.log(student);\n",
        "}\n",
        "\n",
        "listOfStudent();\n",
        "\n",
        "// find student by grade\n",
        "function findStudent(grade){\n",
        "    for(let i =0;i<(student.length);i++){\n",
        "        let arr = Object.values(student[i]);\n",
        "        arr.forEach(function(arr){\n",
        "            if(grade === arr){\n",
        "                console.log(student[i]);\n",
        "            }\n",
        "        });\n",
        "    }\n",
        "}\n",
        "findStudent(\"A\");\n",
        "\n",
        "// function for calculate average age of student\n",
        "function averageAge(){\n",
        "    let averageAge = 0;\n",
        "    for(let i=0;i<(student.length);i++){\n",
        "        averageAge = (parseInt(student[i].Age)) + averageAge;\n",
        "    }\n",
        "    console.log(`Average age of students is: ${averageAge}`);\n",
        "}\n",
        "averageAge();"
      ],
      "metadata": {
        "id": "448mwTN6jfZj"
      },
      "execution_count": null,
      "outputs": []
    },
    {
      "cell_type": "markdown",
      "source": [
        "5. You are given a JavaScript object representing a student's information. Your task is to use the 'for...in' loop\n",
        "to iterate over the properties of the object and perform various operations.\n",
        "\n",
        "a) Create a function displayStudentInfo that takes the student object as a parameter. Inside this function, use a\n",
        "'for...in' loop to iterate over the properties of the student object and print each property and its corresponding\n",
        "value to the console. The output should look something like this\n",
        "<br>Property: name, Value: Alice\n",
        "\n",
        "Property: age, Value: 22\n",
        "\n",
        "Property: major, Value: Computer Science\n",
        "\n",
        "Property: GPA, Value: 3.8\n",
        "\n",
        "Property: isEnrolled, Value: true"
      ],
      "metadata": {
        "id": "JtzBVu80jkll"
      }
    },
    {
      "cell_type": "code",
      "source": [
        "const student = {name:\"Alice\",age:22,major:\"Computer Science\",GPA:3.8,isEnrolled:true};\n",
        "\n",
        "//function for display object key and values\n",
        "\n",
        "function displayStudentInfo(obj) {\n",
        "   for(let key in obj){\n",
        "    console.log(`Property: ${key}, Value: ${obj[key]}`);\n",
        "   }\n",
        "}\n",
        "displayStudentInfo(student);"
      ],
      "metadata": {
        "id": "-Wnkg6TFkSwF"
      },
      "execution_count": null,
      "outputs": []
    }
  ]
}