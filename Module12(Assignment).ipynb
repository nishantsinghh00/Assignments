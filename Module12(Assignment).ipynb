{
  "nbformat": 4,
  "nbformat_minor": 0,
  "metadata": {
    "colab": {
      "provenance": []
    },
    "kernelspec": {
      "name": "python3",
      "display_name": "Python 3"
    },
    "language_info": {
      "name": "python"
    }
  },
  "cells": [
    {
      "cell_type": "markdown",
      "source": [
        "Task 1:\n",
        "\n",
        "\n",
        "Problem Statement\n",
        "\n",
        "Explain the purpose of using the var() function in css. Also you have created two buttons with id named\n",
        "primaryBtn and secondaryBtn which should be given background colors using the var() function. The color\n",
        "code for primaryColor is #00b7ff and secondaryColor is #6c757d.\n",
        "\n",
        " - Use of var() function:\n",
        "   - var() function in CSS is used to insert the value of CSS variable.\n",
        "   - Its makes CSS more readiable and useable and maintainable.\n",
        "   - Its makes easier to update value of variable(change all places where variable use).\n",
        "   - Its use to store color once.\n"
      ],
      "metadata": {
        "id": "kKG0VxQQY7EQ"
      }
    },
    {
      "cell_type": "code",
      "execution_count": null,
      "metadata": {
        "id": "6Acgi-t0Y1Ye"
      },
      "outputs": [],
      "source": [
        "<!DOCTYPE html>\n",
        "<html lang=\"en\">\n",
        "<head>\n",
        "    <meta charset=\"UTF-8\">\n",
        "    <meta name=\"viewport\" content=\"width=device-width, initial-scale=1.0\">\n",
        "    <title>Document</title>\n",
        "    <style>\n",
        "        :root {\n",
        "            --primary-color: #00b7ff;\n",
        "            --secondary-color: #6c757d;\n",
        "        }\n",
        "        button {\n",
        "            padding: 15px;\n",
        "            width: 150px;\n",
        "            border: none;\n",
        "            color: white;\n",
        "        }\n",
        "        #primarybutton {\n",
        "            background-color: var(--primary-color);\n",
        "        }\n",
        "        #secondarybutton {\n",
        "            background-color: var(--secondary-color);\n",
        "        }\n",
        "    </style>\n",
        "</head>\n",
        "<body>\n",
        "    <button id=\"primarybutton\">Primary Button</button>\n",
        "    <button id=\"secondarybutton\">Secondary Button</button>\n",
        "</body>\n",
        "</html>"
      ]
    },
    {
      "cell_type": "markdown",
      "source": [
        "Task 2:\n",
        "\n",
        "\n",
        "Problem Statement\n",
        "\n",
        "Create a 3D cube using the transform property of CSS"
      ],
      "metadata": {
        "id": "swopaTM4M7SX"
      }
    },
    {
      "cell_type": "code",
      "source": [
        "<!DOCTYPE html>\n",
        "<html lang=\"en\">\n",
        "<head>\n",
        "    <meta charset=\"UTF-8\">\n",
        "    <meta name=\"viewport\" content=\"width=device-width, initial-scale=1.0\">\n",
        "    <title>Document</title>\n",
        "    <link rel=\"stylesheet\" href=\"./problem02.css\">\n",
        "</head>\n",
        "<body>\n",
        "   <div id=\"cube\">\n",
        "       <div id=\"front\">Front</div>\n",
        "       <div id=\"left\">Left</div>\n",
        "       <div id=\"right\">Right</div>\n",
        "       <div id=\"back\">Back</div>\n",
        "       <div id=\"top\">Buttom</div>\n",
        "       <div id=\"buttom\">Top</div>\n",
        "   </div>\n",
        "</body>\n",
        "</html>\n",
        "\n",
        "CSS File\n",
        "\n",
        "body {\n",
        "    background-color: rgb(241, 240, 240);\n",
        "    perspective: 1000px;\n",
        "    display: flex;\n",
        "    justify-content: center;\n",
        "    align-items: center;\n",
        "}\n",
        "#cube div {\n",
        "    height: 200px;\n",
        "    width: 200px;\n",
        "    background-color: rgb(0, 145, 255);\n",
        "    border: 1px solid black;\n",
        "    font-size: 25px;\n",
        "    display: flex;\n",
        "    align-items: center;\n",
        "    justify-content: center;\n",
        "}\n",
        "#front {\n",
        "    transform: rotateY(0deg) translateZ(100px) translateY(605px);\n",
        "}\n",
        "#right {\n",
        "    transform: rotateY(90deg) translateZ(100px) translateY(202px);\n",
        "}\n",
        "#left {\n",
        "    transform: rotateY(-90deg) translateZ(100px) translateY(405px);\n",
        "}\n",
        "#back {\n",
        "    transform: rotateY(180deg) translateZ(100px);\n",
        "}\n",
        "#buttom {\n",
        "    transform: rotateX(-90deg) translateZ(-505px);\n",
        "}\n",
        "#top {\n",
        "    transform: rotateX(90deg) translateZ(100px);\n",
        "}\n",
        "#cube {\n",
        "    animation: cube 8s infinite linear;\n",
        "    /* animation-delay: 2s; */\n",
        "    transform-style: preserve-3d;\n",
        "}\n",
        "@keyframes cube {\n",
        "    0% {\n",
        "        transform: rotateX(0) rotateX(0);\n",
        "    }\n",
        "    100% {\n",
        "        transform: rotateX(360deg) rotateY(360deg) ;\n",
        "    }\n",
        "}"
      ],
      "metadata": {
        "id": "5BlSJ6diNCSn"
      },
      "execution_count": null,
      "outputs": []
    },
    {
      "cell_type": "markdown",
      "source": [
        "Task 3:\n",
        "\n",
        "\n",
        "Problem Statement\n",
        "\n",
        "Create a simple circular loader which will rotate continuously to look like a loading screen on a website."
      ],
      "metadata": {
        "id": "EebygV_kNLGA"
      }
    },
    {
      "cell_type": "code",
      "source": [
        "<!DOCTYPE html>\n",
        "<html lang=\"en\">\n",
        "<head>\n",
        "    <meta charset=\"UTF-8\">\n",
        "    <meta name=\"viewport\" content=\"width=device-width, initial-scale=1.0\">\n",
        "    <title>Document</title>\n",
        "    <style>\n",
        "        body {\n",
        "            display: flex;\n",
        "            justify-content: center;\n",
        "            align-items: center;\n",
        "            height: 100vh;\n",
        "        }\n",
        "        div {\n",
        "            width: 50px;\n",
        "            height: 50px;\n",
        "            border: 8px solid rgb(187, 183, 183);\n",
        "            border-bottom: 8px solid blue;\n",
        "            border-radius: 50%;\n",
        "            animation: simple-loader 2s infinite linear ;\n",
        "        }\n",
        "        @keyframes simple-loader {\n",
        "            0% {\n",
        "                transform: rotate(0deg);\n",
        "            }\n",
        "            100% {\n",
        "                transform: rotate(360deg);\n",
        "            }\n",
        "        }\n",
        "    </style>\n",
        "</head>\n",
        "<body>\n",
        "    <div></div>\n",
        "</body>\n",
        "</html>"
      ],
      "metadata": {
        "id": "5wS33wSjNOsF"
      },
      "execution_count": null,
      "outputs": []
    },
    {
      "cell_type": "markdown",
      "source": [
        "Task 4:\n",
        "\n",
        "\n",
        "Problem Statement\n",
        "\n",
        "You have to visit the PW Skills website (https://pwskills.com/) and have to hide the logo by using the developer\n",
        "tool. This should be done using the css and developer tool only, use of javascript is prohibited."
      ],
      "metadata": {
        "id": "qzyhDPjfTncw"
      }
    },
    {
      "cell_type": "code",
      "source": [
        "<a class=\"cursor-pointer px-3 py-2\" href=\"https://pwskills.com\">\n",
        "\n",
        "\n",
        "class=\"cursor-pointer px-3 py-2 py-1\"\n",
        "\n",
        "CSS Edit\n",
        "\n",
        ".py-1{\n",
        "  display: none;\n",
        "}"
      ],
      "metadata": {
        "id": "-pjhAja8TqYd"
      },
      "execution_count": null,
      "outputs": []
    },
    {
      "cell_type": "markdown",
      "source": [
        "I add one more class name inside a tag (py-1).Then i go in style editor and write one more rule for py-1 (display:none)."
      ],
      "metadata": {
        "id": "DfbK0usMUc4n"
      }
    },
    {
      "cell_type": "markdown",
      "source": [
        "Task 5:\n",
        "\n",
        "\n",
        "Problem Statement\n",
        "\n",
        "You have to visit the PW Skills website (https://pwskills.com/) and have to change the content of the ‘Login /\n",
        "Register’ button to ‘Connect with us’ using the developer tool. This should be done using the elements of\n",
        "developer tools only, use of javascript is prohibited"
      ],
      "metadata": {
        "id": "k9C4e09dgkuU"
      }
    },
    {
      "cell_type": "code",
      "source": [
        "<!-- Before -->\n",
        "\n",
        "<button class=\"opacity-100 border border-orange-500 text-orange-500 hover:text-orange-600 hover:border-orange-600 text-sm px-3 py-[10px] medium:text-base medium:px-6 medium:py-3 font-semibold rounded-md flex gap-2 justify-center items-center font-nunitoSans cursor-pointer !py-2 !px-5 !max-h-10 !text-[14px] !font-semibold !leading-[22px] !rounded-[4px]\">Login / Register</button>\n",
        "\n",
        "\n",
        "<!-- After -->\n",
        "\n",
        "<button class=\"opacity-100 border border-orange-500 text-orange-500 hover:text-orange-600 hover:border-orange-600 text-sm px-3 py-[10px] medium:text-base medium:px-6 medium:py-3 font-semibold rounded-md flex gap-2 justify-center items-center font-nunitoSans cursor-pointer !py-2 !px-5 !max-h-10 !text-[14px] !font-semibold !leading-[22px] !rounded-[4px]\">Connect Us</button>"
      ],
      "metadata": {
        "id": "rJq7oj3uifDl"
      },
      "execution_count": null,
      "outputs": []
    }
  ]
}