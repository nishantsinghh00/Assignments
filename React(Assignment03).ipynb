{
  "nbformat": 4,
  "nbformat_minor": 0,
  "metadata": {
    "colab": {
      "provenance": []
    },
    "kernelspec": {
      "name": "python3",
      "display_name": "Python 3"
    },
    "language_info": {
      "name": "python"
    }
  },
  "cells": [
    {
      "cell_type": "markdown",
      "source": [
        "TASK 1\n",
        "\n",
        "Problem Statement\n",
        "\n",
        "Discuss the concept of hooks in React. Explain how they differ from class component lifecycle methods. Also,provide an example.\n",
        "\n",
        " - Hooks: Hooks are special function that do some specific task. React give us various types of hooks for specific task. If we need we make our own custom hooks.\n",
        " - Differ from class component lifecycle methods:\n",
        "   - Before hooks we only use class component to manage lifecycle methods,states.\n",
        "   - In class component we need to define constuctor,this or bind methods but hooks are simple to use.\n",
        "   - We don't need this keyword in hooks but in class component we need this keyword to manage states.\n",
        "   - State Management: In hooks it manage through useState(), In class Component it manage through this.state(),this.setState().\n",
        "   - Hooks made code more readiable and easy but in class component code become complex.\n",
        "   - Lifecycle Handling becomes more easy with hooks we managed through useEffect, But in class component is not that easy we need to managed multiple lifecyle methods separately.\n",
        " - Example:\n",
        "   \n"
      ],
      "metadata": {
        "id": "MviJuB3ucW9A"
      }
    },
    {
      "cell_type": "code",
      "execution_count": null,
      "metadata": {
        "id": "Mptf3wwtbu0J"
      },
      "outputs": [],
      "source": [
        "//Hooks example\n",
        "\n",
        "import { useState } from \"react\";\n",
        "\n",
        "function Example(){\n",
        "\n",
        "    const [count,setCount] = useState(0);\n",
        "    return(\n",
        "        <>\n",
        "           <div>Counter</div>\n",
        "           <div>{count}</div>\n",
        "           <button onClick={()=>setCount(count+1)}>Increment</button>\n",
        "           {count && <button onClick={()=>setCount(count-1)}>Decrement</button>}\n",
        "        </>\n",
        "    );\n",
        "\n",
        "}\n",
        "\n",
        "export default Example;\n",
        "\n",
        "//Class component example\n",
        "\n",
        "import { Component } from \"react\";\n",
        "\n",
        "class Example extends Component{\n",
        "    state={\n",
        "        count:0,\n",
        "    }\n",
        "\n",
        "    render(){\n",
        "       return(\n",
        "         <>\n",
        "           <div>Counter</div>\n",
        "           <div>{this.state.count}</div>\n",
        "           <button onClick={()=>{this.setState({count:this.state.count+1})}}>Increment</button>\n",
        "           {count && <button onClick={this.setState({count:this.state.count-1})}>decrement</button>}\n",
        "         </>\n",
        "       );\n",
        "    }\n",
        "\n",
        "}\n",
        "export default Example;"
      ]
    },
    {
      "cell_type": "markdown",
      "source": [
        "TASK 2\n",
        "\n",
        "Problem Statement\n",
        "\n",
        "Explain and discuss its syntax, purpose, and how it manages state in functional components for the following hooks\n",
        " - useState\n",
        " - useEffect\n",
        "\n",
        "useState Hook:\n",
        "-  useState is a hook that used to add state variable in your component.\n",
        "-  State variable is different from normal variable it track changes in value and cause rerender of component.\n",
        "- Syntax:\n",
        "  - const [count,setCount] = useState(0);\n",
        "  - It returns array of two things one is initial value and other is updater function.\n",
        "- purpose:\n",
        "  - To give state variable in functional component.\n",
        "  - It used to store,update and track changes in state variable.\n",
        "\n",
        "useEffect Hook:\n",
        "- useEffect hook is used for add some logic or task on component lifecycle like on mounting, on updating, on unmounting.\n",
        "- useState cause rerender and useEffect tells what to do on rerender.\n",
        "- Syntax:\n",
        "  - useEffect({logic },[ dependencies array]);\n",
        "  - In logic write what you want to do and in dependencies array write on which component your logic is depend.\n",
        "- purpose:\n",
        "  - useEffect provide granual control on component lifecycle."
      ],
      "metadata": {
        "id": "4pp1v2ot7ZWT"
      }
    },
    {
      "cell_type": "markdown",
      "source": [
        "TASK 3\n",
        "\n",
        "Problem Statement\n",
        "\n",
        "Explain the concept of custom hooks in React, Provide one example scenario of when and how custom hooks can be useful, and also provide the code.\n",
        " - Custom Hooks in React is a reusable javascript function that allow you to write logic once and share it across multiple components.Like useState(),useEffect().\n",
        " - Always start with a word use.It is not necessary but this make code more understandable.\n",
        " - Allow you to avoid code duplication.\n",
        " - They follow same rule as bulid-in hooks follows.\n",
        " - When and How Custom hooks can be useful:\n",
        "   - Imagine you need to fetch data from API in several components.Each components needs same logic.Instead of write same logic again and again you can create useFetch hook and call it again and again.\n",
        " - Example:\n"
      ],
      "metadata": {
        "id": "t5JCc1KfAYX2"
      }
    },
    {
      "cell_type": "code",
      "source": [
        "import { useState, useEffect } from \"react\";\n",
        "\n",
        "function useFetch(url) {\n",
        "  const [data, setData] = useState(null);\n",
        "  const [error, setError] = useState(null);\n",
        "\n",
        "  useEffect(() => {\n",
        "    const fetchData = async () => {\n",
        "      try {\n",
        "        const res = await fetch(\"url\");\n",
        "        const result = await res.json();\n",
        "        setData(result);\n",
        "      } catch (err) {\n",
        "        setError(err.message);\n",
        "    };\n",
        "\n",
        "    fetchData();\n",
        "  }, [\"url\"]);\n",
        "\n",
        "  return { data, error };\n",
        "}\n",
        "\n",
        "export default useFetch;"
      ],
      "metadata": {
        "id": "SkYMpSdGQ4yP"
      },
      "execution_count": null,
      "outputs": []
    },
    {
      "cell_type": "markdown",
      "source": [
        "TASK 4\n",
        "\n",
        "Problem Statement\n",
        "\n",
        "Explore ways to optimize performance in React using hooks\n",
        "- There are several ways to optimize performance in React using hooks:\n",
        "  - useMemo(): It perevents expensive calculation in rerenders unless dependencies array change.\n",
        "  - useRef(): It store mutable values that don't need to change in rerenders.\n",
        "  - useCallback(): It prevents child component to rerender if parent component is rerender.\n",
        "  - React.memo(); It Skip unnecessary re-renders.\n"
      ],
      "metadata": {
        "id": "mZJ6qke0Ajmf"
      }
    },
    {
      "cell_type": "markdown",
      "source": [
        "TASK 5\n",
        "\n",
        "Problem Statement\n",
        "\n",
        "Implement a global state management system using the Context API and useContext hook. Create providers and consumers for different contexts.\n",
        " - React Context API is present in some of the latest version.\n",
        " - It solve the problem of prop drilling.\n",
        " - It gives better state managment in between components.\n",
        " - It creates global storeage to store common varibles and functions that share between components.\n",
        " - Step 1: create a context object:"
      ],
      "metadata": {
        "id": "nT8-KalTDGAV"
      }
    },
    {
      "cell_type": "code",
      "source": [
        "import { createContext } from \"react\";\n",
        "\n",
        "\n",
        "export const globalStore = createContext();"
      ],
      "metadata": {
        "id": "Hn_1FneyIn-3"
      },
      "execution_count": null,
      "outputs": []
    },
    {
      "cell_type": "markdown",
      "source": [
        " - Step 2: Wrap those component which share common variable:"
      ],
      "metadata": {
        "id": "jPhYJhRZIqHa"
      }
    },
    {
      "cell_type": "code",
      "source": [
        "\n",
        "import { useState } from \"react\";\n",
        "import { GlobalStore } from \"./GlobalStore\";\n",
        "import Home from \"./Home\";\n",
        "\n",
        "function App(){\n",
        "\n",
        "    const [count,setCount] = useState(0);\n",
        "    <GlobalStore.Provider value={{count,setCount}}>\n",
        "        <Home />\n",
        "    </GlobalStore.Provider>\n",
        "\n",
        "\n",
        "}\n",
        "\n",
        "export default App;"
      ],
      "metadata": {
        "id": "e_srnTIaK0-X"
      },
      "execution_count": null,
      "outputs": []
    },
    {
      "cell_type": "markdown",
      "source": [
        " - Step 3: Use useContext hook to access global store anywhere in components hirarchy."
      ],
      "metadata": {
        "id": "CucpGYDmMJ59"
      }
    },
    {
      "cell_type": "code",
      "source": [
        "// Home component\n",
        "\n",
        "import { useContext } from \"react\";\n",
        "import Counter from \"./Counter\";\n",
        "import DecrementButton from \"./DecrementButton\";\n",
        "import IncrementButton from \"./IncrementButton\";\n",
        "import { GlobalStore } from \"./GlobalStore\";\n",
        "\n",
        "function Home(){\n",
        "    const {count} = useContext(GlobalStore);\n",
        "\n",
        "    return(\n",
        "        <>\n",
        "        <Counter />\n",
        "        <IncrementButton />\n",
        "        {count && <DecrementButton />}\n",
        "        </>\n",
        "    );\n",
        "\n",
        "}\n",
        "\n",
        "export default Home;\n",
        "\n",
        "\n",
        "// Counter component\n",
        "\n",
        "import { useContext } from \"react\";\n",
        "import { GlobalStore } from \"./GlobalStore\";\n",
        "\n",
        "function Counter(){\n",
        "\n",
        "    const {count} = useContext(GlobalStore);\n",
        "    return(\n",
        "        <>\n",
        "          <div>Counter APP</div>\n",
        "          <div>{count}</div>\n",
        "        </>\n",
        "    );\n",
        "}\n",
        "\n",
        "export default Counter;\n",
        "\n",
        "// DecrementButton component\n",
        "\n",
        "import { useContext } from \"react\";\n",
        "import { GlobalStore } from \"./GlobalStore\";\n",
        "\n",
        "function DecrementButton(){\n",
        "   const {setCount} = useContext(GlobalStore);\n",
        "   return(\n",
        "    <>\n",
        "      <button onClick={()=>setCount(count+1)}>Decrement</button>\n",
        "    </>\n",
        "   );\n",
        "}\n",
        "\n",
        "export default DecrementButton;\n",
        "\n",
        "// IncrementButton component\n",
        "\n",
        "import { useContext } from \"react\";\n",
        "import { GlobalStore } from \"./GlobalStore\";\n",
        "\n",
        "function IncrementButton(){\n",
        "   const {setCount} = useContext(GlobalStore);\n",
        "   return(\n",
        "    <>\n",
        "      <button onClick={()=>setCount(count-1)}>Increment</button>\n",
        "    </>\n",
        "   );\n",
        "}\n",
        "\n",
        "export default IncrementButton;"
      ],
      "metadata": {
        "id": "z8pdPYGINgmb"
      },
      "execution_count": null,
      "outputs": []
    }
  ]
}