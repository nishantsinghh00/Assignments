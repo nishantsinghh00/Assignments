{
  "nbformat": 4,
  "nbformat_minor": 0,
  "metadata": {
    "colab": {
      "provenance": []
    },
    "kernelspec": {
      "name": "python3",
      "display_name": "Python 3"
    },
    "language_info": {
      "name": "python"
    }
  },
  "cells": [
    {
      "cell_type": "markdown",
      "source": [
        "Q1. For the given index.html file. Perform the following task, without changing the index.html file.\n",
        "index.html (The HTML file)\n",
        "  -  A. Create a CSS file to apply styles to the HTML element, and link it\n",
        "  -  B. Using the combinator selector, perform the following task `\n",
        "       - Use any of the CSS combinator selectors to target all the anchor tags and change the text color to red.\n",
        "       - Target only the first h2 tag and change the text and background color using the combinator selector.\n",
        "       - Also, select the first p tag and change the text color to red.\n",
        "  -  C. Using the attribute selector, perform the following tas\n",
        "       - target the anchor tag with attribute \"href\" and change color to red and remove the text underline.\n",
        "       - Target the anchor tag with the attribute of class name “active”, change the text color, and provide the textstyle properties with underlining.\n",
        "       - Target the anchor tag with the attribute of the target whose value is “_self” and change the background color.\n",
        "   -  D. Using the Pseudo selectors, perform the following task.\n",
        "       - Target the last p tag and add “...” i.e. three dots after its valuÆ\n",
        "       - Target the list of bullet points and change the color of the bullet points without changing the list item's value.\n",
        "       - Among the three p tags target the 2nd p tag, select the first letter of the second p tag, and change the color to red Also increase the font size to 30px."
      ],
      "metadata": {
        "id": "4RGmQ45XAKR-"
      }
    },
    {
      "cell_type": "code",
      "execution_count": null,
      "metadata": {
        "id": "KM1eRh7-_fuL"
      },
      "outputs": [],
      "source": [
        "<!DOCTYPE html>\n",
        "<html lang=\"en\">\n",
        "<head>\n",
        "    <meta charset=\"UTF-8\">\n",
        "    <meta name=\"viewport\" content=\"width=device-width, initial-scale=1.0\">\n",
        "    <title>Test</title>\n",
        "    <link rel=\"stylesheet\" href=\"./problem01.css\">\n",
        "</head>\n",
        "<body>\n",
        "    <header>\n",
        "        <nav>\n",
        "            <h2>TOI</h2>\n",
        "            <div>\n",
        "                <h2>Menu</h2>\n",
        "                <ul>\n",
        "                    <li><a href=\"#\" target=\"_blank\">Home</a></li>\n",
        "                    <li><a href=\"#\" class=\"active\" target=\"_self\">About</a></li>\n",
        "                    <li><a href=\"#\" target=\"_blank\">Services</a></li>\n",
        "                    <li><a href=\"#\" target=\"_blank\">Contact</a></li>\n",
        "                </ul>\n",
        "            </div>\n",
        "            <p>The times of India</p>\n",
        "            <p>Lorem ipsum dolor sit amet consectetur adipisicing elit. Consequatur blanditiis harum, et dicta deleniti in quibusdam hic. Aliquid non necessitatibus consectetur voluptas cumque vero. Accusamus tempore nulla sed velit quibusdam.</p>\n",
        "            <p>read articles</p>\n",
        "        </nav>\n",
        "    </header>\n",
        "</body>\n",
        "</html>\n",
        "\n",
        "CSS File\n",
        "\n",
        "\n",
        "header a{\n",
        "    color: red;\n",
        "}\n",
        "nav > h2 {\n",
        "    color: brown;\n",
        "    background-color: aqua;\n",
        "}\n",
        "nav p:first-of-type {\n",
        "    color: red;\n",
        "}\n",
        "a[href] {\n",
        "    text-decoration: none;\n",
        "}\n",
        "a[class=\"active\"] {\n",
        "    color: blue;\n",
        "    text-decoration: underline;\n",
        "}\n",
        "a[target=\"_self\"] {\n",
        "    background-color: aqua;\n",
        "}\n",
        "nav p:nth-last-of-type(1)::after {\n",
        "    content: \"...\";\n",
        "}\n",
        "li::marker {\n",
        "    color: green;\n",
        "}\n",
        "nav p:nth-child(4)::first-letter {\n",
        "    color: red;\n",
        "    font-size: 30px;\n",
        "}"
      ]
    },
    {
      "cell_type": "markdown",
      "source": [
        "Q2. Create a CSS file and link it to the provided HTML file below, use any of the combinator class selectors to\n",
        "style the navigation menu as follows -\n",
        "  - Use the Descendant combinator selector to remove list style type bullet points and text underlining of the Menu list itemse\n",
        "  - Use the child combinator to display the menu list item inlin^\n",
        "  - Use the Adjacent sibling combinator selector to apply some margin between the menu list items"
      ],
      "metadata": {
        "id": "9EmD_zLlLXBj"
      }
    },
    {
      "cell_type": "code",
      "source": [
        "<!DOCTYPE html>\n",
        "<html lang=\"en\">\n",
        "<head>\n",
        "    <meta charset=\"UTF-8\">\n",
        "    <meta name=\"viewport\" content=\"width=device-width, initial-scale=1.0\">\n",
        "    <title>Document</title>\n",
        "    <link rel=\"stylesheet\" href=\"./problem02.css\">\n",
        "</head>\n",
        "<body>\n",
        "    <header>\n",
        "        <nav>\n",
        "            <ul>\n",
        "                <li><a href=\"#\">Home</a></li>\n",
        "                <li><a href=\"#\">About</a></li>\n",
        "                <li><a href=\"#\">Services</a></li>\n",
        "                <li><a href=\"#\">Portfolio</a></li>\n",
        "                <li><a href=\"#\">Contact</a></li>\n",
        "            </ul>\n",
        "        </nav>\n",
        "    </header>\n",
        "    <main>\n",
        "        <!-- Your content here -->\n",
        "    </main>\n",
        "</body>\n",
        "</html>\n",
        "\n",
        "CSS File\n",
        "\n",
        "nav li , nav a{\n",
        "    list-style: none;\n",
        "    text-decoration: none;\n",
        "}\n",
        "nav li{\n",
        "    display: inline;\n",
        "}\n",
        "li + Li {\n",
        "    margin: 10px;\n",
        "}\n"
      ],
      "metadata": {
        "id": "t76evfLNS-8e"
      },
      "execution_count": null,
      "outputs": []
    },
    {
      "cell_type": "markdown",
      "source": [
        "Q3. Using any of the Pseudo element selectors, add any random words after and before the given HTML tag."
      ],
      "metadata": {
        "id": "YIBsgzZ6TE4u"
      }
    },
    {
      "cell_type": "code",
      "source": [
        "<!DOCTYPE html>\n",
        "<html lang=\"en\">\n",
        "<head>\n",
        "    <meta charset=\"UTF-8\">\n",
        "    <meta name=\"viewport\" content=\"width=device-width, initial-scale=1.0\">\n",
        "    <title>Document</title>\n",
        "    <style>\n",
        "        h1::before {\n",
        "            content: \"hello \";\n",
        "        }\n",
        "        h1::after {\n",
        "            content: \" how are you\";\n",
        "        }\n",
        "    </style>\n",
        "</head>\n",
        "<body>\n",
        "    <h1>element</h1>\n",
        "</body>\n",
        "</html>"
      ],
      "metadata": {
        "id": "nBQPbNm8T3yD"
      },
      "execution_count": null,
      "outputs": []
    },
    {
      "cell_type": "markdown",
      "source": [
        "Q4. Using any of the Pseudo element selectors, add any random words after and before the given HTML tag.\n",
        "  - An example should be one HTML button tac\n",
        "  - When hovering the color should be changed and the shadow of the button should be added^\n",
        "  - Proper padding space should be given^\n",
        "  - The cursor style should also be changed to a pointer on hover"
      ],
      "metadata": {
        "id": "acvg76xST7D7"
      }
    },
    {
      "cell_type": "code",
      "source": [
        "<!DOCTYPE html>\n",
        "<html lang=\"en\">\n",
        "<head>\n",
        "    <meta charset=\"UTF-8\">\n",
        "    <meta name=\"viewport\" content=\"width=device-width, initial-scale=1.0\">\n",
        "    <title>Document</title>\n",
        "    <style>\n",
        "        button {\n",
        "            height: 60px;\n",
        "            width: 100px;\n",
        "            background-color: rgb(56, 56, 234);\n",
        "            color: white;\n",
        "            border-radius: 10px;\n",
        "            letter-spacing: 1px;\n",
        "            transition: all 1s ease-in;\n",
        "        }\n",
        "        button:hover {\n",
        "            background-color: green;\n",
        "            box-shadow: 6px 8px 10px 2px rgba(0,0,0,0.5);\n",
        "        }\n",
        "    </style>\n",
        "</head>\n",
        "<body>\n",
        "    <button>PW Skills</button>\n",
        "</body>\n",
        "</html>"
      ],
      "metadata": {
        "id": "8i-_dDz-XB3L"
      },
      "execution_count": null,
      "outputs": []
    }
  ]
}